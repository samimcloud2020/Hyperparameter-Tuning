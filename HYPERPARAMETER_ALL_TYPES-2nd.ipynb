{
  "nbformat": 4,
  "nbformat_minor": 0,
  "metadata": {
    "colab": {
      "provenance": []
    },
    "kernelspec": {
      "name": "python3",
      "display_name": "Python 3"
    },
    "language_info": {
      "name": "python"
    }
  },
  "cells": [
    {
      "cell_type": "markdown",
      "source": [
        "##Tuning with Keras-Tuner\n",
        "There are variety of libraries that support various hyperparameter optimization methods, we implement using keras-tuner library which is part of **Keras library.** Some other popular libraries to check out are **RayTune(part of Ray)** and **Optuna**, I will add some resources that explain these libraries."
      ],
      "metadata": {
        "id": "oOLd-vATEbgy"
      }
    },
    {
      "cell_type": "markdown",
      "source": [
        "#Parameter: values that are learned by the model and cannot be tuned by Data Scientists. Includes mean, variance of data, weights, bias, etc…\n",
        "\n",
        "#Hyperparameter: Set beforehand by Data Scientists, it cannot be learned by the model such as number of layers , number of neurons, learning_rate, etc…\n",
        "\n",
        "Hyperparameter Optimization techniques\n",
        "This will be a brief conceptual explanation without mathematical details.\n",
        "\n",
        "#GridSearch\n",
        "\n",
        "Search space is Cartesian product of all possible hyperparameters.\n",
        "\n",
        "For example if we want to try out two hyperparameters say learning_rate and optimizer, [0.1, 0.001, 0.0001] and [‘adam’, ‘SGD’] repectively grid search trains model with (0.1, ‘adam’), (0.001, ‘adam’), (0.0001, ‘adam’), (0.1, ‘SGD’), (0.001, ‘SGD’), and (0.0001, ‘SGD) which is all possible variations(cartesian product of two list).\n",
        "\n",
        "For simple model with small search space GridSearch is actually a pretty good choice since training will take shorter time and all configurations can be covered in reasonable amount of time and resource. However when search space is large and model is complex it isn’t preferred especially when some hyperparameters are more important than others. Looking at picture below we can see that for Gridsearch we can only search 3 different values for both hyperparameters where instead we should’ve searched more different values of important hyperparameter.\n",
        "\n",
        "\n",
        "#RandomSearch\n",
        "\n",
        "Randomly search from possible hyperparameter combination. You just need to specify lower and upper bound and from there it is random searched (each value have uniform distribution).\n",
        "\n",
        "Random and Grid search are both intuitive and simple to implement however they have few downsides:\n",
        "\n",
        "Need to train model until the end.\n",
        "Does not make use of previously searched hyperparameter configuration to suggest next hyperparameter configuration to try.\n",
        "\n",
        "#Hyperband\n",
        "\n",
        "Hyperband overcome first downside of grid/random search method by Successive halving which is dropping half of worst performing search space after each trial(can be epoch, specified time, etc…), this continues until all budget is used.\n",
        "\n",
        "Successive halving suffers from budget-vs-number of config trade-off:\n",
        "\n",
        "try many configurations → small budget for each, split across many. This is a problem when there are slow learners (configurations that perform bad at first however well overall) because each hyperparameter combination is not trained until the end.\n",
        "try small configurations → larger budget for each however small search space.\n",
        "Hyperband overcomes this trade-off by dividing total budget into several combinations of number of config vs. budget (some set try large configurations, some try small configuration) then use successive halving on each set.\n",
        "\n",
        "#BayesianOptimization\n",
        "\n",
        "Uses past evaluation results to guide which hyperparameter to search next. Its working process is as follows:\n",
        "\n",
        "Build probabilistic model(surrogate model) of the objective function(hyperparameter that minimize objective, say RMSE).\n",
        "Try different hyperparameters on probabilistic model and choose the best one.\n",
        "apply hyperparameter chosen from 2nd step to true objective function.\n",
        "update probabilistic model incorporating new results\n",
        "repeat steps 1~4.\n",
        "#BOHB\n",
        "\n",
        "Combination of BayesianOptimization and Hyperband, it overcomes both downside of grid/random search. Paper can be found on reference section of this blog.\n",
        "\n"
      ],
      "metadata": {
        "id": "5KG1WYpeloNl"
      }
    },
    {
      "cell_type": "code",
      "source": [
        "!pip install keras_tuner"
      ],
      "metadata": {
        "colab": {
          "base_uri": "https://localhost:8080/"
        },
        "id": "L14QGkY9FRgT",
        "outputId": "bc0095a1-4f3c-45ba-d04f-17644098aff6"
      },
      "execution_count": 2,
      "outputs": [
        {
          "output_type": "stream",
          "name": "stdout",
          "text": [
            "Collecting keras_tuner\n",
            "  Downloading keras_tuner-1.4.6-py3-none-any.whl (128 kB)\n",
            "\u001b[?25l     \u001b[90m━━━━━━━━━━━━━━━━━━━━━━━━━━━━━━━━━━━━━━━━\u001b[0m \u001b[32m0.0/128.9 kB\u001b[0m \u001b[31m?\u001b[0m eta \u001b[36m-:--:--\u001b[0m\r\u001b[2K     \u001b[91m━━━━━━━━━━━━━━━━━━━━━━━━━━━━━━━━━━\u001b[0m\u001b[91m╸\u001b[0m\u001b[90m━━━━━\u001b[0m \u001b[32m112.6/128.9 kB\u001b[0m \u001b[31m3.2 MB/s\u001b[0m eta \u001b[36m0:00:01\u001b[0m\r\u001b[2K     \u001b[90m━━━━━━━━━━━━━━━━━━━━━━━━━━━━━━━━━━━━━━━━\u001b[0m \u001b[32m128.9/128.9 kB\u001b[0m \u001b[31m2.8 MB/s\u001b[0m eta \u001b[36m0:00:00\u001b[0m\n",
            "\u001b[?25hRequirement already satisfied: keras in /usr/local/lib/python3.10/dist-packages (from keras_tuner) (2.14.0)\n",
            "Requirement already satisfied: packaging in /usr/local/lib/python3.10/dist-packages (from keras_tuner) (23.2)\n",
            "Requirement already satisfied: requests in /usr/local/lib/python3.10/dist-packages (from keras_tuner) (2.31.0)\n",
            "Collecting kt-legacy (from keras_tuner)\n",
            "  Downloading kt_legacy-1.0.5-py3-none-any.whl (9.6 kB)\n",
            "Requirement already satisfied: charset-normalizer<4,>=2 in /usr/local/lib/python3.10/dist-packages (from requests->keras_tuner) (3.3.2)\n",
            "Requirement already satisfied: idna<4,>=2.5 in /usr/local/lib/python3.10/dist-packages (from requests->keras_tuner) (3.4)\n",
            "Requirement already satisfied: urllib3<3,>=1.21.1 in /usr/local/lib/python3.10/dist-packages (from requests->keras_tuner) (2.0.7)\n",
            "Requirement already satisfied: certifi>=2017.4.17 in /usr/local/lib/python3.10/dist-packages (from requests->keras_tuner) (2023.7.22)\n",
            "Installing collected packages: kt-legacy, keras_tuner\n",
            "Successfully installed keras_tuner-1.4.6 kt-legacy-1.0.5\n"
          ]
        }
      ]
    },
    {
      "cell_type": "code",
      "source": [
        "import numpy as np\n",
        "import pandas as pd"
      ],
      "metadata": {
        "id": "nd26B6HqEopO"
      },
      "execution_count": 21,
      "outputs": []
    },
    {
      "cell_type": "code",
      "source": [
        "df = pd.read_csv(\"/content/diabetes.csv\")\n",
        "df.head()"
      ],
      "metadata": {
        "colab": {
          "base_uri": "https://localhost:8080/",
          "height": 206
        },
        "id": "zF7eH8FHY2gV",
        "outputId": "1d845a18-dcd1-43fa-c924-789e27381581"
      },
      "execution_count": 22,
      "outputs": [
        {
          "output_type": "execute_result",
          "data": {
            "text/plain": [
              "   Pregnancies  Glucose  BloodPressure  SkinThickness  Insulin   BMI  \\\n",
              "0            6      148             72             35        0  33.6   \n",
              "1            1       85             66             29        0  26.6   \n",
              "2            8      183             64              0        0  23.3   \n",
              "3            1       89             66             23       94  28.1   \n",
              "4            0      137             40             35      168  43.1   \n",
              "\n",
              "   DiabetesPedigreeFunction  Age  Outcome  \n",
              "0                     0.627   50        1  \n",
              "1                     0.351   31        0  \n",
              "2                     0.672   32        1  \n",
              "3                     0.167   21        0  \n",
              "4                     2.288   33        1  "
            ],
            "text/html": [
              "\n",
              "  <div id=\"df-cf117978-5d1c-430a-8256-debacc64c039\" class=\"colab-df-container\">\n",
              "    <div>\n",
              "<style scoped>\n",
              "    .dataframe tbody tr th:only-of-type {\n",
              "        vertical-align: middle;\n",
              "    }\n",
              "\n",
              "    .dataframe tbody tr th {\n",
              "        vertical-align: top;\n",
              "    }\n",
              "\n",
              "    .dataframe thead th {\n",
              "        text-align: right;\n",
              "    }\n",
              "</style>\n",
              "<table border=\"1\" class=\"dataframe\">\n",
              "  <thead>\n",
              "    <tr style=\"text-align: right;\">\n",
              "      <th></th>\n",
              "      <th>Pregnancies</th>\n",
              "      <th>Glucose</th>\n",
              "      <th>BloodPressure</th>\n",
              "      <th>SkinThickness</th>\n",
              "      <th>Insulin</th>\n",
              "      <th>BMI</th>\n",
              "      <th>DiabetesPedigreeFunction</th>\n",
              "      <th>Age</th>\n",
              "      <th>Outcome</th>\n",
              "    </tr>\n",
              "  </thead>\n",
              "  <tbody>\n",
              "    <tr>\n",
              "      <th>0</th>\n",
              "      <td>6</td>\n",
              "      <td>148</td>\n",
              "      <td>72</td>\n",
              "      <td>35</td>\n",
              "      <td>0</td>\n",
              "      <td>33.6</td>\n",
              "      <td>0.627</td>\n",
              "      <td>50</td>\n",
              "      <td>1</td>\n",
              "    </tr>\n",
              "    <tr>\n",
              "      <th>1</th>\n",
              "      <td>1</td>\n",
              "      <td>85</td>\n",
              "      <td>66</td>\n",
              "      <td>29</td>\n",
              "      <td>0</td>\n",
              "      <td>26.6</td>\n",
              "      <td>0.351</td>\n",
              "      <td>31</td>\n",
              "      <td>0</td>\n",
              "    </tr>\n",
              "    <tr>\n",
              "      <th>2</th>\n",
              "      <td>8</td>\n",
              "      <td>183</td>\n",
              "      <td>64</td>\n",
              "      <td>0</td>\n",
              "      <td>0</td>\n",
              "      <td>23.3</td>\n",
              "      <td>0.672</td>\n",
              "      <td>32</td>\n",
              "      <td>1</td>\n",
              "    </tr>\n",
              "    <tr>\n",
              "      <th>3</th>\n",
              "      <td>1</td>\n",
              "      <td>89</td>\n",
              "      <td>66</td>\n",
              "      <td>23</td>\n",
              "      <td>94</td>\n",
              "      <td>28.1</td>\n",
              "      <td>0.167</td>\n",
              "      <td>21</td>\n",
              "      <td>0</td>\n",
              "    </tr>\n",
              "    <tr>\n",
              "      <th>4</th>\n",
              "      <td>0</td>\n",
              "      <td>137</td>\n",
              "      <td>40</td>\n",
              "      <td>35</td>\n",
              "      <td>168</td>\n",
              "      <td>43.1</td>\n",
              "      <td>2.288</td>\n",
              "      <td>33</td>\n",
              "      <td>1</td>\n",
              "    </tr>\n",
              "  </tbody>\n",
              "</table>\n",
              "</div>\n",
              "    <div class=\"colab-df-buttons\">\n",
              "\n",
              "  <div class=\"colab-df-container\">\n",
              "    <button class=\"colab-df-convert\" onclick=\"convertToInteractive('df-cf117978-5d1c-430a-8256-debacc64c039')\"\n",
              "            title=\"Convert this dataframe to an interactive table.\"\n",
              "            style=\"display:none;\">\n",
              "\n",
              "  <svg xmlns=\"http://www.w3.org/2000/svg\" height=\"24px\" viewBox=\"0 -960 960 960\">\n",
              "    <path d=\"M120-120v-720h720v720H120Zm60-500h600v-160H180v160Zm220 220h160v-160H400v160Zm0 220h160v-160H400v160ZM180-400h160v-160H180v160Zm440 0h160v-160H620v160ZM180-180h160v-160H180v160Zm440 0h160v-160H620v160Z\"/>\n",
              "  </svg>\n",
              "    </button>\n",
              "\n",
              "  <style>\n",
              "    .colab-df-container {\n",
              "      display:flex;\n",
              "      gap: 12px;\n",
              "    }\n",
              "\n",
              "    .colab-df-convert {\n",
              "      background-color: #E8F0FE;\n",
              "      border: none;\n",
              "      border-radius: 50%;\n",
              "      cursor: pointer;\n",
              "      display: none;\n",
              "      fill: #1967D2;\n",
              "      height: 32px;\n",
              "      padding: 0 0 0 0;\n",
              "      width: 32px;\n",
              "    }\n",
              "\n",
              "    .colab-df-convert:hover {\n",
              "      background-color: #E2EBFA;\n",
              "      box-shadow: 0px 1px 2px rgba(60, 64, 67, 0.3), 0px 1px 3px 1px rgba(60, 64, 67, 0.15);\n",
              "      fill: #174EA6;\n",
              "    }\n",
              "\n",
              "    .colab-df-buttons div {\n",
              "      margin-bottom: 4px;\n",
              "    }\n",
              "\n",
              "    [theme=dark] .colab-df-convert {\n",
              "      background-color: #3B4455;\n",
              "      fill: #D2E3FC;\n",
              "    }\n",
              "\n",
              "    [theme=dark] .colab-df-convert:hover {\n",
              "      background-color: #434B5C;\n",
              "      box-shadow: 0px 1px 3px 1px rgba(0, 0, 0, 0.15);\n",
              "      filter: drop-shadow(0px 1px 2px rgba(0, 0, 0, 0.3));\n",
              "      fill: #FFFFFF;\n",
              "    }\n",
              "  </style>\n",
              "\n",
              "    <script>\n",
              "      const buttonEl =\n",
              "        document.querySelector('#df-cf117978-5d1c-430a-8256-debacc64c039 button.colab-df-convert');\n",
              "      buttonEl.style.display =\n",
              "        google.colab.kernel.accessAllowed ? 'block' : 'none';\n",
              "\n",
              "      async function convertToInteractive(key) {\n",
              "        const element = document.querySelector('#df-cf117978-5d1c-430a-8256-debacc64c039');\n",
              "        const dataTable =\n",
              "          await google.colab.kernel.invokeFunction('convertToInteractive',\n",
              "                                                    [key], {});\n",
              "        if (!dataTable) return;\n",
              "\n",
              "        const docLinkHtml = 'Like what you see? Visit the ' +\n",
              "          '<a target=\"_blank\" href=https://colab.research.google.com/notebooks/data_table.ipynb>data table notebook</a>'\n",
              "          + ' to learn more about interactive tables.';\n",
              "        element.innerHTML = '';\n",
              "        dataTable['output_type'] = 'display_data';\n",
              "        await google.colab.output.renderOutput(dataTable, element);\n",
              "        const docLink = document.createElement('div');\n",
              "        docLink.innerHTML = docLinkHtml;\n",
              "        element.appendChild(docLink);\n",
              "      }\n",
              "    </script>\n",
              "  </div>\n",
              "\n",
              "\n",
              "<div id=\"df-c081e5ab-e5b7-42ec-af53-9a9ef933be21\">\n",
              "  <button class=\"colab-df-quickchart\" onclick=\"quickchart('df-c081e5ab-e5b7-42ec-af53-9a9ef933be21')\"\n",
              "            title=\"Suggest charts\"\n",
              "            style=\"display:none;\">\n",
              "\n",
              "<svg xmlns=\"http://www.w3.org/2000/svg\" height=\"24px\"viewBox=\"0 0 24 24\"\n",
              "     width=\"24px\">\n",
              "    <g>\n",
              "        <path d=\"M19 3H5c-1.1 0-2 .9-2 2v14c0 1.1.9 2 2 2h14c1.1 0 2-.9 2-2V5c0-1.1-.9-2-2-2zM9 17H7v-7h2v7zm4 0h-2V7h2v10zm4 0h-2v-4h2v4z\"/>\n",
              "    </g>\n",
              "</svg>\n",
              "  </button>\n",
              "\n",
              "<style>\n",
              "  .colab-df-quickchart {\n",
              "      --bg-color: #E8F0FE;\n",
              "      --fill-color: #1967D2;\n",
              "      --hover-bg-color: #E2EBFA;\n",
              "      --hover-fill-color: #174EA6;\n",
              "      --disabled-fill-color: #AAA;\n",
              "      --disabled-bg-color: #DDD;\n",
              "  }\n",
              "\n",
              "  [theme=dark] .colab-df-quickchart {\n",
              "      --bg-color: #3B4455;\n",
              "      --fill-color: #D2E3FC;\n",
              "      --hover-bg-color: #434B5C;\n",
              "      --hover-fill-color: #FFFFFF;\n",
              "      --disabled-bg-color: #3B4455;\n",
              "      --disabled-fill-color: #666;\n",
              "  }\n",
              "\n",
              "  .colab-df-quickchart {\n",
              "    background-color: var(--bg-color);\n",
              "    border: none;\n",
              "    border-radius: 50%;\n",
              "    cursor: pointer;\n",
              "    display: none;\n",
              "    fill: var(--fill-color);\n",
              "    height: 32px;\n",
              "    padding: 0;\n",
              "    width: 32px;\n",
              "  }\n",
              "\n",
              "  .colab-df-quickchart:hover {\n",
              "    background-color: var(--hover-bg-color);\n",
              "    box-shadow: 0 1px 2px rgba(60, 64, 67, 0.3), 0 1px 3px 1px rgba(60, 64, 67, 0.15);\n",
              "    fill: var(--button-hover-fill-color);\n",
              "  }\n",
              "\n",
              "  .colab-df-quickchart-complete:disabled,\n",
              "  .colab-df-quickchart-complete:disabled:hover {\n",
              "    background-color: var(--disabled-bg-color);\n",
              "    fill: var(--disabled-fill-color);\n",
              "    box-shadow: none;\n",
              "  }\n",
              "\n",
              "  .colab-df-spinner {\n",
              "    border: 2px solid var(--fill-color);\n",
              "    border-color: transparent;\n",
              "    border-bottom-color: var(--fill-color);\n",
              "    animation:\n",
              "      spin 1s steps(1) infinite;\n",
              "  }\n",
              "\n",
              "  @keyframes spin {\n",
              "    0% {\n",
              "      border-color: transparent;\n",
              "      border-bottom-color: var(--fill-color);\n",
              "      border-left-color: var(--fill-color);\n",
              "    }\n",
              "    20% {\n",
              "      border-color: transparent;\n",
              "      border-left-color: var(--fill-color);\n",
              "      border-top-color: var(--fill-color);\n",
              "    }\n",
              "    30% {\n",
              "      border-color: transparent;\n",
              "      border-left-color: var(--fill-color);\n",
              "      border-top-color: var(--fill-color);\n",
              "      border-right-color: var(--fill-color);\n",
              "    }\n",
              "    40% {\n",
              "      border-color: transparent;\n",
              "      border-right-color: var(--fill-color);\n",
              "      border-top-color: var(--fill-color);\n",
              "    }\n",
              "    60% {\n",
              "      border-color: transparent;\n",
              "      border-right-color: var(--fill-color);\n",
              "    }\n",
              "    80% {\n",
              "      border-color: transparent;\n",
              "      border-right-color: var(--fill-color);\n",
              "      border-bottom-color: var(--fill-color);\n",
              "    }\n",
              "    90% {\n",
              "      border-color: transparent;\n",
              "      border-bottom-color: var(--fill-color);\n",
              "    }\n",
              "  }\n",
              "</style>\n",
              "\n",
              "  <script>\n",
              "    async function quickchart(key) {\n",
              "      const quickchartButtonEl =\n",
              "        document.querySelector('#' + key + ' button');\n",
              "      quickchartButtonEl.disabled = true;  // To prevent multiple clicks.\n",
              "      quickchartButtonEl.classList.add('colab-df-spinner');\n",
              "      try {\n",
              "        const charts = await google.colab.kernel.invokeFunction(\n",
              "            'suggestCharts', [key], {});\n",
              "      } catch (error) {\n",
              "        console.error('Error during call to suggestCharts:', error);\n",
              "      }\n",
              "      quickchartButtonEl.classList.remove('colab-df-spinner');\n",
              "      quickchartButtonEl.classList.add('colab-df-quickchart-complete');\n",
              "    }\n",
              "    (() => {\n",
              "      let quickchartButtonEl =\n",
              "        document.querySelector('#df-c081e5ab-e5b7-42ec-af53-9a9ef933be21 button');\n",
              "      quickchartButtonEl.style.display =\n",
              "        google.colab.kernel.accessAllowed ? 'block' : 'none';\n",
              "    })();\n",
              "  </script>\n",
              "</div>\n",
              "    </div>\n",
              "  </div>\n"
            ]
          },
          "metadata": {},
          "execution_count": 22
        }
      ]
    },
    {
      "cell_type": "code",
      "source": [
        "X = df.iloc[:,:-1].values\n",
        "y = df.iloc[:,-1:].values\n",
        "\n",
        "X.shape, y.shape"
      ],
      "metadata": {
        "colab": {
          "base_uri": "https://localhost:8080/"
        },
        "id": "KtWzyK6AY4HS",
        "outputId": "9101976e-20b6-46ba-8947-0c1de6905872"
      },
      "execution_count": 23,
      "outputs": [
        {
          "output_type": "execute_result",
          "data": {
            "text/plain": [
              "((768, 8), (768, 1))"
            ]
          },
          "metadata": {},
          "execution_count": 23
        }
      ]
    },
    {
      "cell_type": "code",
      "source": [
        "from sklearn.preprocessing import StandardScaler\n",
        "scaler = StandardScaler()"
      ],
      "metadata": {
        "id": "R1w4cbrIY9cr"
      },
      "execution_count": 24,
      "outputs": []
    },
    {
      "cell_type": "code",
      "source": [
        "X = scaler.fit_transform(X)\n",
        "X, X.shape"
      ],
      "metadata": {
        "colab": {
          "base_uri": "https://localhost:8080/"
        },
        "id": "h0TNAhkDY9gL",
        "outputId": "fe04d3b1-6451-4090-97f6-d426a34a90e6"
      },
      "execution_count": 25,
      "outputs": [
        {
          "output_type": "execute_result",
          "data": {
            "text/plain": [
              "(array([[ 0.63994726,  0.84832379,  0.14964075, ...,  0.20401277,\n",
              "          0.46849198,  1.4259954 ],\n",
              "        [-0.84488505, -1.12339636, -0.16054575, ..., -0.68442195,\n",
              "         -0.36506078, -0.19067191],\n",
              "        [ 1.23388019,  1.94372388, -0.26394125, ..., -1.10325546,\n",
              "          0.60439732, -0.10558415],\n",
              "        ...,\n",
              "        [ 0.3429808 ,  0.00330087,  0.14964075, ..., -0.73518964,\n",
              "         -0.68519336, -0.27575966],\n",
              "        [-0.84488505,  0.1597866 , -0.47073225, ..., -0.24020459,\n",
              "         -0.37110101,  1.17073215],\n",
              "        [-0.84488505, -0.8730192 ,  0.04624525, ..., -0.20212881,\n",
              "         -0.47378505, -0.87137393]]),\n",
              " (768, 8))"
            ]
          },
          "metadata": {},
          "execution_count": 25
        }
      ]
    },
    {
      "cell_type": "code",
      "source": [
        "from sklearn.model_selection import   train_test_split\n",
        "X_train,X_test,y_train,y_test = train_test_split(X,y,test_size=0.2,random_state=1)"
      ],
      "metadata": {
        "id": "fbd951K6Y96A"
      },
      "execution_count": 26,
      "outputs": []
    },
    {
      "cell_type": "code",
      "source": [
        "X_train.shape,y_train.shape,X_test.shape,y_test.shape"
      ],
      "metadata": {
        "colab": {
          "base_uri": "https://localhost:8080/"
        },
        "id": "akdNsWonY99I",
        "outputId": "fcb50a70-0c61-4e16-f5d0-693bea05dcc9"
      },
      "execution_count": 27,
      "outputs": [
        {
          "output_type": "execute_result",
          "data": {
            "text/plain": [
              "((614, 8), (614, 1), (154, 8), (154, 1))"
            ]
          },
          "metadata": {},
          "execution_count": 27
        }
      ]
    },
    {
      "cell_type": "markdown",
      "source": [
        "#With the help of tf.data.Dataset.from_tensor_slices() method, we can get the slices of an array in the form of objects by using tf.data.Dataset.from_tensor_slices() method.\n",
        "\n",
        "Syntax : tf.data.Dataset.from_tensor_slices(list)\n",
        "\n",
        "Return : Return the objects of sliced elements."
      ],
      "metadata": {
        "id": "zF8SvanMIF-2"
      }
    },
    {
      "cell_type": "code",
      "source": [
        "inputs = tf.keras.Input(shape=(8), batch_size=32)\n",
        "flatten_layer = tf.keras.layers.Flatten()(inputs)\n",
        "dense = tf.keras.layers.Dense(units=512, activation='relu')(flatten_layer)\n",
        "outputs = tf.keras.layers.Dense(units=10)(dense)\n",
        "\n",
        "model = tf.keras.Model(inputs=inputs, outputs=outputs)\n",
        "model.compile(optimizer=tf.keras.optimizers.Adam(learning_rate=0.01),\n",
        "              loss=tf.keras.losses.SparseCategoricalCrossentropy(from_logits=True),\n",
        "              metrics=['accuracy'])"
      ],
      "metadata": {
        "id": "xLQS6LuUExvj"
      },
      "execution_count": 28,
      "outputs": []
    },
    {
      "cell_type": "code",
      "source": [
        "history = model.fit(X_train,y_train,batch_size=32,epochs=100, validation_data=(X_test,y_test))"
      ],
      "metadata": {
        "colab": {
          "base_uri": "https://localhost:8080/"
        },
        "id": "nCO7O7CAZ0MM",
        "outputId": "8f41b269-9ad5-4a0c-d012-c4ebe03e38a4"
      },
      "execution_count": 29,
      "outputs": [
        {
          "output_type": "stream",
          "name": "stdout",
          "text": [
            "Epoch 1/100\n",
            "20/20 [==============================] - 1s 14ms/step - loss: 0.7357 - accuracy: 0.7020 - val_loss: 0.4974 - val_accuracy: 0.8052\n",
            "Epoch 2/100\n",
            "20/20 [==============================] - 0s 5ms/step - loss: 0.5095 - accuracy: 0.7508 - val_loss: 0.4775 - val_accuracy: 0.7922\n",
            "Epoch 3/100\n",
            "20/20 [==============================] - 0s 5ms/step - loss: 0.4804 - accuracy: 0.7638 - val_loss: 0.4899 - val_accuracy: 0.7792\n",
            "Epoch 4/100\n",
            "20/20 [==============================] - 0s 6ms/step - loss: 0.4639 - accuracy: 0.7671 - val_loss: 0.4635 - val_accuracy: 0.8052\n",
            "Epoch 5/100\n",
            "20/20 [==============================] - 0s 6ms/step - loss: 0.4437 - accuracy: 0.7866 - val_loss: 0.4725 - val_accuracy: 0.8117\n",
            "Epoch 6/100\n",
            "20/20 [==============================] - 0s 6ms/step - loss: 0.4537 - accuracy: 0.7834 - val_loss: 0.4827 - val_accuracy: 0.7922\n",
            "Epoch 7/100\n",
            "20/20 [==============================] - 0s 6ms/step - loss: 0.4393 - accuracy: 0.7834 - val_loss: 0.4974 - val_accuracy: 0.7792\n",
            "Epoch 8/100\n",
            "20/20 [==============================] - 0s 7ms/step - loss: 0.4472 - accuracy: 0.7948 - val_loss: 0.4833 - val_accuracy: 0.7987\n",
            "Epoch 9/100\n",
            "20/20 [==============================] - 0s 6ms/step - loss: 0.4575 - accuracy: 0.7752 - val_loss: 0.5065 - val_accuracy: 0.7727\n",
            "Epoch 10/100\n",
            "20/20 [==============================] - 0s 6ms/step - loss: 0.4470 - accuracy: 0.7720 - val_loss: 0.4879 - val_accuracy: 0.8052\n",
            "Epoch 11/100\n",
            "20/20 [==============================] - 0s 7ms/step - loss: 0.4323 - accuracy: 0.7948 - val_loss: 0.4862 - val_accuracy: 0.8052\n",
            "Epoch 12/100\n",
            "20/20 [==============================] - 0s 7ms/step - loss: 0.4292 - accuracy: 0.7915 - val_loss: 0.4909 - val_accuracy: 0.7597\n",
            "Epoch 13/100\n",
            "20/20 [==============================] - 0s 6ms/step - loss: 0.4557 - accuracy: 0.7834 - val_loss: 0.5662 - val_accuracy: 0.7532\n",
            "Epoch 14/100\n",
            "20/20 [==============================] - 0s 6ms/step - loss: 0.4519 - accuracy: 0.7883 - val_loss: 0.4994 - val_accuracy: 0.7792\n",
            "Epoch 15/100\n",
            "20/20 [==============================] - 0s 6ms/step - loss: 0.4389 - accuracy: 0.8013 - val_loss: 0.4828 - val_accuracy: 0.7922\n",
            "Epoch 16/100\n",
            "20/20 [==============================] - 0s 7ms/step - loss: 0.4210 - accuracy: 0.7980 - val_loss: 0.5290 - val_accuracy: 0.7922\n",
            "Epoch 17/100\n",
            "20/20 [==============================] - 0s 6ms/step - loss: 0.4207 - accuracy: 0.8046 - val_loss: 0.5604 - val_accuracy: 0.7273\n",
            "Epoch 18/100\n",
            "20/20 [==============================] - 0s 6ms/step - loss: 0.4473 - accuracy: 0.7850 - val_loss: 0.5844 - val_accuracy: 0.7597\n",
            "Epoch 19/100\n",
            "20/20 [==============================] - 0s 7ms/step - loss: 0.4343 - accuracy: 0.8078 - val_loss: 0.5105 - val_accuracy: 0.7857\n",
            "Epoch 20/100\n",
            "20/20 [==============================] - 0s 7ms/step - loss: 0.4238 - accuracy: 0.7964 - val_loss: 0.5426 - val_accuracy: 0.7662\n",
            "Epoch 21/100\n",
            "20/20 [==============================] - 0s 6ms/step - loss: 0.4357 - accuracy: 0.7997 - val_loss: 0.5182 - val_accuracy: 0.7922\n",
            "Epoch 22/100\n",
            "20/20 [==============================] - 0s 6ms/step - loss: 0.4080 - accuracy: 0.8127 - val_loss: 0.5140 - val_accuracy: 0.8052\n",
            "Epoch 23/100\n",
            "20/20 [==============================] - 0s 7ms/step - loss: 0.3779 - accuracy: 0.8274 - val_loss: 0.5121 - val_accuracy: 0.7597\n",
            "Epoch 24/100\n",
            "20/20 [==============================] - 0s 6ms/step - loss: 0.4044 - accuracy: 0.8143 - val_loss: 0.5224 - val_accuracy: 0.7922\n",
            "Epoch 25/100\n",
            "20/20 [==============================] - 0s 7ms/step - loss: 0.4347 - accuracy: 0.7801 - val_loss: 0.5295 - val_accuracy: 0.7922\n",
            "Epoch 26/100\n",
            "20/20 [==============================] - 0s 6ms/step - loss: 0.4018 - accuracy: 0.8013 - val_loss: 0.5193 - val_accuracy: 0.8052\n",
            "Epoch 27/100\n",
            "20/20 [==============================] - 0s 5ms/step - loss: 0.3722 - accuracy: 0.8306 - val_loss: 0.5071 - val_accuracy: 0.7922\n",
            "Epoch 28/100\n",
            "20/20 [==============================] - 0s 6ms/step - loss: 0.3931 - accuracy: 0.8160 - val_loss: 0.5135 - val_accuracy: 0.7987\n",
            "Epoch 29/100\n",
            "20/20 [==============================] - 0s 6ms/step - loss: 0.3558 - accuracy: 0.8420 - val_loss: 0.5514 - val_accuracy: 0.7987\n",
            "Epoch 30/100\n",
            "20/20 [==============================] - 0s 6ms/step - loss: 0.3553 - accuracy: 0.8371 - val_loss: 0.5185 - val_accuracy: 0.8377\n",
            "Epoch 31/100\n",
            "20/20 [==============================] - 0s 7ms/step - loss: 0.3605 - accuracy: 0.8485 - val_loss: 0.5415 - val_accuracy: 0.7987\n",
            "Epoch 32/100\n",
            "20/20 [==============================] - 0s 6ms/step - loss: 0.3634 - accuracy: 0.8257 - val_loss: 0.5457 - val_accuracy: 0.7922\n",
            "Epoch 33/100\n",
            "20/20 [==============================] - 0s 6ms/step - loss: 0.3503 - accuracy: 0.8469 - val_loss: 0.5305 - val_accuracy: 0.7922\n",
            "Epoch 34/100\n",
            "20/20 [==============================] - 0s 6ms/step - loss: 0.3539 - accuracy: 0.8420 - val_loss: 0.5982 - val_accuracy: 0.7922\n",
            "Epoch 35/100\n",
            "20/20 [==============================] - 0s 7ms/step - loss: 0.3540 - accuracy: 0.8290 - val_loss: 0.5543 - val_accuracy: 0.8117\n",
            "Epoch 36/100\n",
            "20/20 [==============================] - 0s 7ms/step - loss: 0.3512 - accuracy: 0.8469 - val_loss: 0.5918 - val_accuracy: 0.8312\n",
            "Epoch 37/100\n",
            "20/20 [==============================] - 0s 6ms/step - loss: 0.3538 - accuracy: 0.8485 - val_loss: 0.5927 - val_accuracy: 0.7987\n",
            "Epoch 38/100\n",
            "20/20 [==============================] - 0s 5ms/step - loss: 0.3505 - accuracy: 0.8355 - val_loss: 0.5657 - val_accuracy: 0.7792\n",
            "Epoch 39/100\n",
            "20/20 [==============================] - 0s 6ms/step - loss: 0.3442 - accuracy: 0.8469 - val_loss: 0.5880 - val_accuracy: 0.7987\n",
            "Epoch 40/100\n",
            "20/20 [==============================] - 0s 4ms/step - loss: 0.3662 - accuracy: 0.8518 - val_loss: 0.6594 - val_accuracy: 0.7987\n",
            "Epoch 41/100\n",
            "20/20 [==============================] - 0s 4ms/step - loss: 0.3631 - accuracy: 0.8469 - val_loss: 0.6148 - val_accuracy: 0.7857\n",
            "Epoch 42/100\n",
            "20/20 [==============================] - 0s 4ms/step - loss: 0.3419 - accuracy: 0.8534 - val_loss: 0.6118 - val_accuracy: 0.7857\n",
            "Epoch 43/100\n",
            "20/20 [==============================] - 0s 4ms/step - loss: 0.3436 - accuracy: 0.8404 - val_loss: 0.6780 - val_accuracy: 0.7857\n",
            "Epoch 44/100\n",
            "20/20 [==============================] - 0s 5ms/step - loss: 0.3055 - accuracy: 0.8616 - val_loss: 0.6226 - val_accuracy: 0.7922\n",
            "Epoch 45/100\n",
            "20/20 [==============================] - 0s 4ms/step - loss: 0.3024 - accuracy: 0.8811 - val_loss: 0.5968 - val_accuracy: 0.7857\n",
            "Epoch 46/100\n",
            "20/20 [==============================] - 0s 5ms/step - loss: 0.2870 - accuracy: 0.8827 - val_loss: 0.6560 - val_accuracy: 0.7792\n",
            "Epoch 47/100\n",
            "20/20 [==============================] - 0s 4ms/step - loss: 0.2902 - accuracy: 0.8779 - val_loss: 0.6667 - val_accuracy: 0.7857\n",
            "Epoch 48/100\n",
            "20/20 [==============================] - 0s 4ms/step - loss: 0.3198 - accuracy: 0.8664 - val_loss: 0.6560 - val_accuracy: 0.7922\n",
            "Epoch 49/100\n",
            "20/20 [==============================] - 0s 6ms/step - loss: 0.3058 - accuracy: 0.8713 - val_loss: 0.7275 - val_accuracy: 0.7727\n",
            "Epoch 50/100\n",
            "20/20 [==============================] - 0s 5ms/step - loss: 0.2908 - accuracy: 0.8795 - val_loss: 0.6174 - val_accuracy: 0.8247\n",
            "Epoch 51/100\n",
            "20/20 [==============================] - 0s 6ms/step - loss: 0.2653 - accuracy: 0.8909 - val_loss: 0.6512 - val_accuracy: 0.7987\n",
            "Epoch 52/100\n",
            "20/20 [==============================] - 0s 4ms/step - loss: 0.2671 - accuracy: 0.9055 - val_loss: 0.6599 - val_accuracy: 0.7792\n",
            "Epoch 53/100\n",
            "20/20 [==============================] - 0s 4ms/step - loss: 0.2915 - accuracy: 0.8844 - val_loss: 0.6879 - val_accuracy: 0.7662\n",
            "Epoch 54/100\n",
            "20/20 [==============================] - 0s 4ms/step - loss: 0.2552 - accuracy: 0.9023 - val_loss: 0.6973 - val_accuracy: 0.7857\n",
            "Epoch 55/100\n",
            "20/20 [==============================] - 0s 5ms/step - loss: 0.2479 - accuracy: 0.8990 - val_loss: 0.6940 - val_accuracy: 0.7792\n",
            "Epoch 56/100\n",
            "20/20 [==============================] - 0s 5ms/step - loss: 0.2447 - accuracy: 0.9104 - val_loss: 0.7995 - val_accuracy: 0.7857\n",
            "Epoch 57/100\n",
            "20/20 [==============================] - 0s 4ms/step - loss: 0.2391 - accuracy: 0.8958 - val_loss: 0.6959 - val_accuracy: 0.7727\n",
            "Epoch 58/100\n",
            "20/20 [==============================] - 0s 5ms/step - loss: 0.2421 - accuracy: 0.9072 - val_loss: 0.7285 - val_accuracy: 0.7792\n",
            "Epoch 59/100\n",
            "20/20 [==============================] - 0s 5ms/step - loss: 0.2783 - accuracy: 0.8909 - val_loss: 0.8037 - val_accuracy: 0.7857\n",
            "Epoch 60/100\n",
            "20/20 [==============================] - 0s 6ms/step - loss: 0.2614 - accuracy: 0.8925 - val_loss: 0.7824 - val_accuracy: 0.8117\n",
            "Epoch 61/100\n",
            "20/20 [==============================] - 0s 4ms/step - loss: 0.2679 - accuracy: 0.8941 - val_loss: 0.7862 - val_accuracy: 0.7338\n",
            "Epoch 62/100\n",
            "20/20 [==============================] - 0s 5ms/step - loss: 0.2194 - accuracy: 0.9186 - val_loss: 0.7259 - val_accuracy: 0.7857\n",
            "Epoch 63/100\n",
            "20/20 [==============================] - 0s 6ms/step - loss: 0.2244 - accuracy: 0.9121 - val_loss: 0.7298 - val_accuracy: 0.8117\n",
            "Epoch 64/100\n",
            "20/20 [==============================] - 0s 4ms/step - loss: 0.2520 - accuracy: 0.9023 - val_loss: 0.8313 - val_accuracy: 0.7987\n",
            "Epoch 65/100\n",
            "20/20 [==============================] - 0s 5ms/step - loss: 0.2080 - accuracy: 0.9121 - val_loss: 0.7618 - val_accuracy: 0.7727\n",
            "Epoch 66/100\n",
            "20/20 [==============================] - 0s 5ms/step - loss: 0.2437 - accuracy: 0.9055 - val_loss: 0.7563 - val_accuracy: 0.7727\n",
            "Epoch 67/100\n",
            "20/20 [==============================] - 0s 5ms/step - loss: 0.2132 - accuracy: 0.9186 - val_loss: 0.7532 - val_accuracy: 0.7857\n",
            "Epoch 68/100\n",
            "20/20 [==============================] - 0s 5ms/step - loss: 0.2144 - accuracy: 0.9202 - val_loss: 0.8090 - val_accuracy: 0.7987\n",
            "Epoch 69/100\n",
            "20/20 [==============================] - 0s 5ms/step - loss: 0.1983 - accuracy: 0.9137 - val_loss: 0.7833 - val_accuracy: 0.7857\n",
            "Epoch 70/100\n",
            "20/20 [==============================] - 0s 5ms/step - loss: 0.2063 - accuracy: 0.9202 - val_loss: 0.9635 - val_accuracy: 0.7597\n",
            "Epoch 71/100\n",
            "20/20 [==============================] - 0s 5ms/step - loss: 0.1998 - accuracy: 0.9153 - val_loss: 0.8355 - val_accuracy: 0.7792\n",
            "Epoch 72/100\n",
            "20/20 [==============================] - 0s 4ms/step - loss: 0.1722 - accuracy: 0.9479 - val_loss: 0.7857 - val_accuracy: 0.7857\n",
            "Epoch 73/100\n",
            "20/20 [==============================] - 0s 4ms/step - loss: 0.1854 - accuracy: 0.9316 - val_loss: 0.9172 - val_accuracy: 0.7922\n",
            "Epoch 74/100\n",
            "20/20 [==============================] - 0s 5ms/step - loss: 0.2546 - accuracy: 0.8974 - val_loss: 1.0023 - val_accuracy: 0.8117\n",
            "Epoch 75/100\n",
            "20/20 [==============================] - 0s 4ms/step - loss: 0.3100 - accuracy: 0.8730 - val_loss: 1.0105 - val_accuracy: 0.7922\n",
            "Epoch 76/100\n",
            "20/20 [==============================] - 0s 4ms/step - loss: 0.3757 - accuracy: 0.8632 - val_loss: 1.0138 - val_accuracy: 0.7922\n",
            "Epoch 77/100\n",
            "20/20 [==============================] - 0s 4ms/step - loss: 0.3113 - accuracy: 0.8893 - val_loss: 0.7948 - val_accuracy: 0.7662\n",
            "Epoch 78/100\n",
            "20/20 [==============================] - 0s 5ms/step - loss: 0.2628 - accuracy: 0.9088 - val_loss: 0.8523 - val_accuracy: 0.7727\n",
            "Epoch 79/100\n",
            "20/20 [==============================] - 0s 4ms/step - loss: 0.2362 - accuracy: 0.9023 - val_loss: 0.8891 - val_accuracy: 0.7922\n",
            "Epoch 80/100\n",
            "20/20 [==============================] - 0s 6ms/step - loss: 0.2425 - accuracy: 0.9104 - val_loss: 0.9386 - val_accuracy: 0.7987\n",
            "Epoch 81/100\n",
            "20/20 [==============================] - 0s 5ms/step - loss: 0.2595 - accuracy: 0.8990 - val_loss: 0.8675 - val_accuracy: 0.7662\n",
            "Epoch 82/100\n",
            "20/20 [==============================] - 0s 4ms/step - loss: 0.2129 - accuracy: 0.9039 - val_loss: 0.7787 - val_accuracy: 0.7792\n",
            "Epoch 83/100\n",
            "20/20 [==============================] - 0s 4ms/step - loss: 0.1903 - accuracy: 0.9202 - val_loss: 0.9227 - val_accuracy: 0.7922\n",
            "Epoch 84/100\n",
            "20/20 [==============================] - 0s 4ms/step - loss: 0.1558 - accuracy: 0.9365 - val_loss: 0.8433 - val_accuracy: 0.8052\n",
            "Epoch 85/100\n",
            "20/20 [==============================] - 0s 4ms/step - loss: 0.1580 - accuracy: 0.9430 - val_loss: 0.9078 - val_accuracy: 0.8052\n",
            "Epoch 86/100\n",
            "20/20 [==============================] - 0s 5ms/step - loss: 0.2040 - accuracy: 0.9153 - val_loss: 0.8993 - val_accuracy: 0.7597\n",
            "Epoch 87/100\n",
            "20/20 [==============================] - 0s 5ms/step - loss: 0.1610 - accuracy: 0.9332 - val_loss: 0.9527 - val_accuracy: 0.7597\n",
            "Epoch 88/100\n",
            "20/20 [==============================] - 0s 4ms/step - loss: 0.1730 - accuracy: 0.9365 - val_loss: 0.9130 - val_accuracy: 0.7987\n",
            "Epoch 89/100\n",
            "20/20 [==============================] - 0s 5ms/step - loss: 0.1635 - accuracy: 0.9414 - val_loss: 0.8956 - val_accuracy: 0.7922\n",
            "Epoch 90/100\n",
            "20/20 [==============================] - 0s 5ms/step - loss: 0.1679 - accuracy: 0.9316 - val_loss: 1.0152 - val_accuracy: 0.7597\n",
            "Epoch 91/100\n",
            "20/20 [==============================] - 0s 4ms/step - loss: 0.1776 - accuracy: 0.9365 - val_loss: 0.9891 - val_accuracy: 0.8052\n",
            "Epoch 92/100\n",
            "20/20 [==============================] - 0s 5ms/step - loss: 0.1821 - accuracy: 0.9316 - val_loss: 0.9810 - val_accuracy: 0.8052\n",
            "Epoch 93/100\n",
            "20/20 [==============================] - 0s 4ms/step - loss: 0.1597 - accuracy: 0.9479 - val_loss: 0.8425 - val_accuracy: 0.7662\n",
            "Epoch 94/100\n",
            "20/20 [==============================] - 0s 4ms/step - loss: 0.1307 - accuracy: 0.9528 - val_loss: 0.9738 - val_accuracy: 0.7857\n",
            "Epoch 95/100\n",
            "20/20 [==============================] - 0s 5ms/step - loss: 0.1332 - accuracy: 0.9446 - val_loss: 0.9495 - val_accuracy: 0.7857\n",
            "Epoch 96/100\n",
            "20/20 [==============================] - 0s 5ms/step - loss: 0.1260 - accuracy: 0.9642 - val_loss: 1.0940 - val_accuracy: 0.7597\n",
            "Epoch 97/100\n",
            "20/20 [==============================] - 0s 5ms/step - loss: 0.1057 - accuracy: 0.9739 - val_loss: 0.9773 - val_accuracy: 0.7727\n",
            "Epoch 98/100\n",
            "20/20 [==============================] - 0s 4ms/step - loss: 0.1204 - accuracy: 0.9593 - val_loss: 0.9488 - val_accuracy: 0.7857\n",
            "Epoch 99/100\n",
            "20/20 [==============================] - 0s 5ms/step - loss: 0.1114 - accuracy: 0.9609 - val_loss: 0.9860 - val_accuracy: 0.7662\n",
            "Epoch 100/100\n",
            "20/20 [==============================] - 0s 6ms/step - loss: 0.1014 - accuracy: 0.9707 - val_loss: 1.0077 - val_accuracy: 0.7662\n"
          ]
        }
      ]
    },
    {
      "cell_type": "markdown",
      "source": [
        "#Here are hyperparameters to tune:\n",
        "\n",
        "number of layers\n",
        "\n",
        "number of neurons per layer\n",
        "\n",
        "dropout rate\n",
        "\n",
        "activation function\n",
        "\n",
        "learning rate\n",
        "\n",
        "#Two main parts:--------------------->\n",
        "\n",
        "**build_model:**\n",
        "\n",
        "build model like above however built with different set of hyperparameter that are chosen by the tuner.\n",
        "\n",
        "**Tuner:**\n",
        "\n",
        "class that manage hyperparameter search process, all different HPO methods **RandomSearch, HyperBand, and BayesianOptimization** are subclass of Tuner class.\n",
        "\n",
        "Below is build model part of our code. We will explain line by line what’s going on.\n",
        "\n",
        "##Note: hpis parameter that is passed by tuner class at each trial.\n",
        "\n",
        "lines 2~7 :\n",
        "\n",
        " initialize our hyperparameter search space within our function.\n",
        "\n",
        "9~11:\n",
        "\n",
        " hp.Choice() selects value among list of values and hp.Float() chooses from min_value and max_value and depending on ‘sampling’ parameter it values are sampled differently. In our case since we chose ‘log’ equal probabilities are given to each order of magnitude 0.0001, 0.001, and 0.1.\n",
        "\n",
        "17~18:\n",
        "\n",
        " hp.Int() simply choose integer value between range, note that both upper and lower range are inclusive. Here we choose number of neurons to be between 32~512.\n",
        "\n",
        "19~21:\n",
        "\n",
        "number of layers to use are chosen by hp.Choice, -1 is because we’ve added one dense layer above. Now for each layer we choose number of neurons to be between 32~512. If you want all layers to have same number of neurons simply use dnn_units from line 18 at each iteration(delete line 20).\n",
        "\n",
        "22:\n",
        "\n",
        "hp.Boolean() chooses from True/False, if True it adds dropout layer with 0.25 dropout ratio.\n"
      ],
      "metadata": {
        "id": "TJO2mvhNIm8e"
      }
    },
    {
      "cell_type": "markdown",
      "source": [
        "#hp.Int(\n",
        "    \"n_layers\",\n",
        "    min_value=6,\n",
        "    max_value=12)\n",
        "\n",
        "\n",
        "The possible values are [6, 7, 8, 9, 10, 11, 12]."
      ],
      "metadata": {
        "id": "P9nRsDlUb3HA"
      }
    },
    {
      "cell_type": "code",
      "source": [
        "def build_model(hp):\n",
        "    dnn_layers_ss = [1,2,3]\n",
        "    dnn_units_min, dnn_units_max = 32, 512\n",
        "    dropout_ss = [0.1, 0.2]\n",
        "    active_func_ss = ['relu', 'tanh','sigmoid']\n",
        "    optimizer_ss = ['adam']\n",
        "    lr_min, lr_max = 1e-4, 1e-1\n",
        "\n",
        "    active_func = hp.Choice('activation', active_func_ss)\n",
        "    optimizer = hp.Choice('optimizer', optimizer_ss)\n",
        "    lr = hp.Float('learning_rate', min_value=lr_min, max_value=lr_max, sampling='log')\n",
        "\n",
        "    inputs = tf.keras.Input(shape=(8))\n",
        "    flatten_layer = tf.keras.layers.Flatten()(inputs)\n",
        "\n",
        "    # create hidden layers\n",
        "    dnn_units = hp.Int(f\"0_units\", min_value=dnn_units_min, max_value=dnn_units_max) #0_units\n",
        "    dense = tf.keras.layers.Dense(units=dnn_units, activation=active_func)(flatten_layer)\n",
        "\n",
        "    for layer_i in range(hp.Choice(\"n_layers\", dnn_layers_ss) - 1 ):\n",
        "        dnn_units = hp.Int(f\"{layer_i}_units\", min_value=dnn_units_min, max_value=dnn_units_max)\n",
        "        dense = tf.keras.layers.Dense(units=dnn_units, activation=active_func)(dense)\n",
        "        if hp.Boolean(\"dropout\"):\n",
        "            dense = tf.keras.layers.Dropout(rate=0.25)(dense)\n",
        "\n",
        "\n",
        "    outputs = tf.keras.layers.Dense(units=10)(dense)\n",
        "\n",
        "    model = tf.keras.Model(inputs=inputs, outputs=outputs)\n",
        "\n",
        "    if optimizer == \"adam\":\n",
        "        optimizer = tf.keras.optimizers.Adam(learning_rate=lr)\n",
        "    elif optimizer == \"SGD\":\n",
        "        optimizer = tf.keras.optimizers.SGD(learning_rate=lr)\n",
        "    else:\n",
        "        raise(\"Not supported optimizer\")\n",
        "\n",
        "    model.compile(optimizer=optimizer,\n",
        "                  loss=tf.keras.losses.SparseCategoricalCrossentropy(from_logits=True),\n",
        "                  metrics=['accuracy'])\n",
        "    return model\n"
      ],
      "metadata": {
        "id": "jUqOt3ZqEyE9"
      },
      "execution_count": 93,
      "outputs": []
    },
    {
      "cell_type": "code",
      "source": [
        "tuner = kt.RandomSearch(hypermodel=build_model, objective='val_accuracy',max_trials=35,directory=\"mydir\",project_name=\"samim13\")"
      ],
      "metadata": {
        "colab": {
          "base_uri": "https://localhost:8080/"
        },
        "id": "xSMvUZM1Q8dL",
        "outputId": "186fa91e-0be6-4c0e-9f6a-1716d410f1a4"
      },
      "execution_count": 64,
      "outputs": [
        {
          "output_type": "stream",
          "name": "stdout",
          "text": [
            "Reloading Tuner from mydir/samim13/tuner0.json\n"
          ]
        }
      ]
    },
    {
      "cell_type": "code",
      "source": [
        "tuner.search(X_train, y_train, epochs=5, validation_data=(X_test, y_test))"
      ],
      "metadata": {
        "colab": {
          "base_uri": "https://localhost:8080/"
        },
        "id": "ZVro7LwRQ9bh",
        "outputId": "ce09dd61-e7a2-41e1-bdaa-9ff096d51c49"
      },
      "execution_count": 65,
      "outputs": [
        {
          "output_type": "stream",
          "name": "stdout",
          "text": [
            "Trial 35 Complete [00h 00m 03s]\n",
            "val_accuracy: 0.7662337422370911\n",
            "\n",
            "Best val_accuracy So Far: 0.8246753215789795\n",
            "Total elapsed time: 00h 58m 34s\n"
          ]
        }
      ]
    },
    {
      "cell_type": "code",
      "source": [
        "tuner.get_best_hyperparameters()[0].values"
      ],
      "metadata": {
        "colab": {
          "base_uri": "https://localhost:8080/"
        },
        "id": "rM6CkbMyQ9vL",
        "outputId": "e1fb4177-2fb2-4111-9f8d-5c08e0ba4bb2"
      },
      "execution_count": 66,
      "outputs": [
        {
          "output_type": "execute_result",
          "data": {
            "text/plain": [
              "{'activation': 'relu',\n",
              " 'optimizer': 'adam',\n",
              " 'learning_rate': 0.0022949470996957142,\n",
              " '0_units': 463,\n",
              " 'n_layers': 2,\n",
              " 'dropout': False}"
            ]
          },
          "metadata": {},
          "execution_count": 66
        }
      ]
    },
    {
      "cell_type": "code",
      "source": [
        "model = tuner.get_best_models(num_models=1)[0]"
      ],
      "metadata": {
        "colab": {
          "base_uri": "https://localhost:8080/"
        },
        "id": "Q2xWFzy4RGCE",
        "outputId": "cd5a7907-de22-4496-96f0-79c169553cfa"
      },
      "execution_count": 67,
      "outputs": [
        {
          "output_type": "stream",
          "name": "stderr",
          "text": [
            "WARNING:tensorflow:Detecting that an object or model or tf.train.Checkpoint is being deleted with unrestored values. See the following logs for the specific values in question. To silence these warnings, use `status.expect_partial()`. See https://www.tensorflow.org/api_docs/python/tf/train/Checkpoint#restorefor details about the status object returned by the restore function.\n",
            "WARNING:tensorflow:Value in checkpoint could not be found in the restored object: (root).optimizer._variables.1\n",
            "WARNING:tensorflow:Value in checkpoint could not be found in the restored object: (root).optimizer._variables.2\n",
            "WARNING:tensorflow:Value in checkpoint could not be found in the restored object: (root).optimizer._variables.3\n",
            "WARNING:tensorflow:Value in checkpoint could not be found in the restored object: (root).optimizer._variables.4\n",
            "WARNING:tensorflow:Value in checkpoint could not be found in the restored object: (root).optimizer._variables.5\n",
            "WARNING:tensorflow:Value in checkpoint could not be found in the restored object: (root).optimizer._variables.6\n",
            "WARNING:tensorflow:Value in checkpoint could not be found in the restored object: (root).optimizer._variables.7\n",
            "WARNING:tensorflow:Value in checkpoint could not be found in the restored object: (root).optimizer._variables.8\n",
            "WARNING:tensorflow:Value in checkpoint could not be found in the restored object: (root).optimizer._variables.9\n",
            "WARNING:tensorflow:Value in checkpoint could not be found in the restored object: (root).optimizer._variables.10\n",
            "WARNING:tensorflow:Value in checkpoint could not be found in the restored object: (root).optimizer._variables.11\n",
            "WARNING:tensorflow:Value in checkpoint could not be found in the restored object: (root).optimizer._variables.12\n"
          ]
        }
      ]
    },
    {
      "cell_type": "code",
      "source": [
        "model.summary()"
      ],
      "metadata": {
        "colab": {
          "base_uri": "https://localhost:8080/"
        },
        "id": "gVS3CFQodtvq",
        "outputId": "5523133b-8679-49db-e662-4c5696c476c2"
      },
      "execution_count": 68,
      "outputs": [
        {
          "output_type": "stream",
          "name": "stdout",
          "text": [
            "Model: \"model\"\n",
            "_________________________________________________________________\n",
            " Layer (type)                Output Shape              Param #   \n",
            "=================================================================\n",
            " input_1 (InputLayer)        [(None, 8)]               0         \n",
            "                                                                 \n",
            " flatten (Flatten)           (None, 8)                 0         \n",
            "                                                                 \n",
            " dense (Dense)               (None, 463)               4167      \n",
            "                                                                 \n",
            " dense_1 (Dense)             (None, 463)               214832    \n",
            "                                                                 \n",
            " dense_2 (Dense)             (None, 10)                4640      \n",
            "                                                                 \n",
            "=================================================================\n",
            "Total params: 223639 (873.59 KB)\n",
            "Trainable params: 223639 (873.59 KB)\n",
            "Non-trainable params: 0 (0.00 Byte)\n",
            "_________________________________________________________________\n"
          ]
        }
      ]
    },
    {
      "cell_type": "code",
      "source": [
        "history = model.fit(X_train,y_train,batch_size=32, epochs=20, validation_data=(X_test,y_test))"
      ],
      "metadata": {
        "colab": {
          "base_uri": "https://localhost:8080/"
        },
        "id": "5BCTDqx5SIwc",
        "outputId": "65c96991-032e-43a2-d651-d21988cccf13"
      },
      "execution_count": 71,
      "outputs": [
        {
          "output_type": "stream",
          "name": "stdout",
          "text": [
            "Epoch 1/20\n",
            "20/20 [==============================] - 0s 11ms/step - loss: 0.0241 - accuracy: 0.9935 - val_loss: 2.1322 - val_accuracy: 0.7078\n",
            "Epoch 2/20\n",
            "20/20 [==============================] - 0s 7ms/step - loss: 0.0159 - accuracy: 1.0000 - val_loss: 2.1753 - val_accuracy: 0.7078\n",
            "Epoch 3/20\n",
            "20/20 [==============================] - 0s 8ms/step - loss: 0.0118 - accuracy: 1.0000 - val_loss: 2.1886 - val_accuracy: 0.7273\n",
            "Epoch 4/20\n",
            "20/20 [==============================] - 0s 8ms/step - loss: 0.0105 - accuracy: 1.0000 - val_loss: 2.2136 - val_accuracy: 0.7078\n",
            "Epoch 5/20\n",
            "20/20 [==============================] - 0s 8ms/step - loss: 0.0096 - accuracy: 0.9984 - val_loss: 2.2623 - val_accuracy: 0.7208\n",
            "Epoch 6/20\n",
            "20/20 [==============================] - 0s 9ms/step - loss: 0.0077 - accuracy: 1.0000 - val_loss: 2.3014 - val_accuracy: 0.7338\n",
            "Epoch 7/20\n",
            "20/20 [==============================] - 0s 8ms/step - loss: 0.0074 - accuracy: 1.0000 - val_loss: 2.3160 - val_accuracy: 0.7143\n",
            "Epoch 8/20\n",
            "20/20 [==============================] - 0s 8ms/step - loss: 0.0064 - accuracy: 1.0000 - val_loss: 2.3406 - val_accuracy: 0.7208\n",
            "Epoch 9/20\n",
            "20/20 [==============================] - 0s 9ms/step - loss: 0.0058 - accuracy: 1.0000 - val_loss: 2.3447 - val_accuracy: 0.7403\n",
            "Epoch 10/20\n",
            "20/20 [==============================] - 0s 9ms/step - loss: 0.0052 - accuracy: 1.0000 - val_loss: 2.3725 - val_accuracy: 0.7273\n",
            "Epoch 11/20\n",
            "20/20 [==============================] - 0s 8ms/step - loss: 0.0047 - accuracy: 1.0000 - val_loss: 2.3942 - val_accuracy: 0.7208\n",
            "Epoch 12/20\n",
            "20/20 [==============================] - 0s 8ms/step - loss: 0.0046 - accuracy: 1.0000 - val_loss: 2.4162 - val_accuracy: 0.7403\n",
            "Epoch 13/20\n",
            "20/20 [==============================] - 0s 8ms/step - loss: 0.0045 - accuracy: 1.0000 - val_loss: 2.4209 - val_accuracy: 0.7208\n",
            "Epoch 14/20\n",
            "20/20 [==============================] - 0s 8ms/step - loss: 0.0041 - accuracy: 1.0000 - val_loss: 2.4383 - val_accuracy: 0.7403\n",
            "Epoch 15/20\n",
            "20/20 [==============================] - 0s 8ms/step - loss: 0.0039 - accuracy: 1.0000 - val_loss: 2.4507 - val_accuracy: 0.7273\n",
            "Epoch 16/20\n",
            "20/20 [==============================] - 0s 8ms/step - loss: 0.0038 - accuracy: 1.0000 - val_loss: 2.4888 - val_accuracy: 0.7338\n",
            "Epoch 17/20\n",
            "20/20 [==============================] - 0s 9ms/step - loss: 0.0049 - accuracy: 1.0000 - val_loss: 2.4792 - val_accuracy: 0.7273\n",
            "Epoch 18/20\n",
            "20/20 [==============================] - 0s 8ms/step - loss: 0.0040 - accuracy: 1.0000 - val_loss: 2.4805 - val_accuracy: 0.7338\n",
            "Epoch 19/20\n",
            "20/20 [==============================] - 0s 8ms/step - loss: 0.0038 - accuracy: 1.0000 - val_loss: 2.5044 - val_accuracy: 0.7208\n",
            "Epoch 20/20\n",
            "20/20 [==============================] - 0s 8ms/step - loss: 0.0036 - accuracy: 1.0000 - val_loss: 2.5101 - val_accuracy: 0.7338\n"
          ]
        }
      ]
    },
    {
      "cell_type": "markdown",
      "source": [
        "#After building tuner with our model, we run .search() method to search our hyperparameter search space. Note that at each trial our tuner sends different hyperparameters to train with, each tuner subclass(RandomSearch, Hyperband, BO) will use their own strategies on choosing next hyperparameters."
      ],
      "metadata": {
        "id": "XuNTqS8WORiz"
      }
    },
    {
      "cell_type": "code",
      "source": [
        "def build_tuner(model, hpo_method, objective, dir_name):\n",
        "    if hpo_method == \"RandomSearch\":\n",
        "        tuner = kt.RandomSearch(model, objective=objective, max_trials=3, executions_per_trial=1,\n",
        "                               project_name=hpo_method, directory=dir_name)\n",
        "    elif hpo_method == \"Hyperband\":\n",
        "        tuner = kt.Hyperband(model, objective=objective, max_epochs=3, executions_per_trial=1,\n",
        "                            project_name=hpo_method)\n",
        "    elif hpo_method == \"BayesianOptimization\":\n",
        "        tuner = kt.BayesianOptimization(model, objective=objective, max_trials=3, executions_per_trial=1,\n",
        "                                       project_name=hpo_method)\n",
        "    return tuner\n",
        "\n"
      ],
      "metadata": {
        "id": "IC6SDv3TEyKu"
      },
      "execution_count": 75,
      "outputs": []
    },
    {
      "cell_type": "code",
      "source": [
        "obj = kt.Objective('val_accuracy', direction='max')\n",
        "dir_name = \"v1\"\n",
        "randomsearch_tuner = build_tuner(build_model, \"RandomSearch\", obj, dir_name)\n",
        "randomsearch_tuner.search(X_train, y_train, epochs=5, validation_data=(X_test, y_test))"
      ],
      "metadata": {
        "colab": {
          "base_uri": "https://localhost:8080/"
        },
        "id": "U-E5UBlohqs4",
        "outputId": "1b476d02-f1ee-4ce7-8e03-3362ffc17ec9"
      },
      "execution_count": 82,
      "outputs": [
        {
          "output_type": "stream",
          "name": "stdout",
          "text": [
            "Reloading Tuner from v1/RandomSearch/tuner0.json\n"
          ]
        }
      ]
    },
    {
      "cell_type": "code",
      "source": [
        "model = build_model(randomsearch_tuner.get_best_hyperparameters(1)[0])\n",
        "model.fit(X_train,y_train,batch_size=32, epochs=150, validation_data=(X_test,y_test))"
      ],
      "metadata": {
        "colab": {
          "base_uri": "https://localhost:8080/"
        },
        "id": "m3pzPm0kg1F3",
        "outputId": "1d4831a0-e7b9-4406-a5b0-314ba794ad92"
      },
      "execution_count": 80,
      "outputs": [
        {
          "output_type": "stream",
          "name": "stdout",
          "text": [
            "Epoch 1/150\n",
            "20/20 [==============================] - 1s 21ms/step - loss: 1.8039 - accuracy: 0.5945 - val_loss: 1.4645 - val_accuracy: 0.7662\n",
            "Epoch 2/150\n",
            "20/20 [==============================] - 0s 11ms/step - loss: 1.4138 - accuracy: 0.7378 - val_loss: 1.1908 - val_accuracy: 0.8052\n",
            "Epoch 3/150\n",
            "20/20 [==============================] - 0s 12ms/step - loss: 1.0946 - accuracy: 0.7459 - val_loss: 0.8292 - val_accuracy: 0.7792\n",
            "Epoch 4/150\n",
            "20/20 [==============================] - 0s 13ms/step - loss: 0.7184 - accuracy: 0.7606 - val_loss: 0.5905 - val_accuracy: 0.7922\n",
            "Epoch 5/150\n",
            "20/20 [==============================] - 0s 12ms/step - loss: 0.5543 - accuracy: 0.7427 - val_loss: 0.5103 - val_accuracy: 0.7857\n",
            "Epoch 6/150\n",
            "20/20 [==============================] - 0s 19ms/step - loss: 0.5191 - accuracy: 0.7622 - val_loss: 0.4871 - val_accuracy: 0.7727\n",
            "Epoch 7/150\n",
            "20/20 [==============================] - 0s 19ms/step - loss: 0.5066 - accuracy: 0.7606 - val_loss: 0.4823 - val_accuracy: 0.7727\n",
            "Epoch 8/150\n",
            "20/20 [==============================] - 0s 17ms/step - loss: 0.4761 - accuracy: 0.7752 - val_loss: 0.4774 - val_accuracy: 0.7532\n",
            "Epoch 9/150\n",
            "20/20 [==============================] - 0s 18ms/step - loss: 0.4887 - accuracy: 0.7622 - val_loss: 0.4781 - val_accuracy: 0.7727\n",
            "Epoch 10/150\n",
            "20/20 [==============================] - 0s 17ms/step - loss: 0.4904 - accuracy: 0.7638 - val_loss: 0.4870 - val_accuracy: 0.7922\n",
            "Epoch 11/150\n",
            "20/20 [==============================] - 0s 17ms/step - loss: 0.4745 - accuracy: 0.7622 - val_loss: 0.4715 - val_accuracy: 0.7987\n",
            "Epoch 12/150\n",
            "20/20 [==============================] - 0s 19ms/step - loss: 0.4962 - accuracy: 0.7590 - val_loss: 0.4662 - val_accuracy: 0.7987\n",
            "Epoch 13/150\n",
            "20/20 [==============================] - 0s 18ms/step - loss: 0.4858 - accuracy: 0.7590 - val_loss: 0.4682 - val_accuracy: 0.7857\n",
            "Epoch 14/150\n",
            "20/20 [==============================] - 0s 19ms/step - loss: 0.4847 - accuracy: 0.7818 - val_loss: 0.4588 - val_accuracy: 0.8052\n",
            "Epoch 15/150\n",
            "20/20 [==============================] - 0s 20ms/step - loss: 0.4892 - accuracy: 0.7590 - val_loss: 0.4659 - val_accuracy: 0.7857\n",
            "Epoch 16/150\n",
            "20/20 [==============================] - 0s 20ms/step - loss: 0.4807 - accuracy: 0.7687 - val_loss: 0.4721 - val_accuracy: 0.8117\n",
            "Epoch 17/150\n",
            "20/20 [==============================] - 0s 18ms/step - loss: 0.4926 - accuracy: 0.7590 - val_loss: 0.4718 - val_accuracy: 0.7857\n",
            "Epoch 18/150\n",
            "20/20 [==============================] - 0s 13ms/step - loss: 0.4784 - accuracy: 0.7655 - val_loss: 0.4621 - val_accuracy: 0.7987\n",
            "Epoch 19/150\n",
            "20/20 [==============================] - 0s 12ms/step - loss: 0.4741 - accuracy: 0.7622 - val_loss: 0.4601 - val_accuracy: 0.7662\n",
            "Epoch 20/150\n",
            "20/20 [==============================] - 0s 13ms/step - loss: 0.4743 - accuracy: 0.7638 - val_loss: 0.4628 - val_accuracy: 0.7727\n",
            "Epoch 21/150\n",
            "20/20 [==============================] - 0s 13ms/step - loss: 0.4679 - accuracy: 0.7752 - val_loss: 0.4474 - val_accuracy: 0.7922\n",
            "Epoch 22/150\n",
            "20/20 [==============================] - 0s 13ms/step - loss: 0.4641 - accuracy: 0.7801 - val_loss: 0.4598 - val_accuracy: 0.7792\n",
            "Epoch 23/150\n",
            "20/20 [==============================] - 0s 13ms/step - loss: 0.4875 - accuracy: 0.7541 - val_loss: 0.4583 - val_accuracy: 0.7792\n",
            "Epoch 24/150\n",
            "20/20 [==============================] - 0s 13ms/step - loss: 0.4643 - accuracy: 0.7980 - val_loss: 0.4663 - val_accuracy: 0.7792\n",
            "Epoch 25/150\n",
            "20/20 [==============================] - 0s 12ms/step - loss: 0.4681 - accuracy: 0.7769 - val_loss: 0.4517 - val_accuracy: 0.8117\n",
            "Epoch 26/150\n",
            "20/20 [==============================] - 0s 12ms/step - loss: 0.4735 - accuracy: 0.7769 - val_loss: 0.4530 - val_accuracy: 0.8117\n",
            "Epoch 27/150\n",
            "20/20 [==============================] - 0s 14ms/step - loss: 0.4891 - accuracy: 0.7638 - val_loss: 0.4553 - val_accuracy: 0.8117\n",
            "Epoch 28/150\n",
            "20/20 [==============================] - 0s 13ms/step - loss: 0.4767 - accuracy: 0.7687 - val_loss: 0.4535 - val_accuracy: 0.7792\n",
            "Epoch 29/150\n",
            "20/20 [==============================] - 0s 12ms/step - loss: 0.4741 - accuracy: 0.7638 - val_loss: 0.4522 - val_accuracy: 0.8052\n",
            "Epoch 30/150\n",
            "20/20 [==============================] - 0s 12ms/step - loss: 0.4743 - accuracy: 0.7687 - val_loss: 0.4532 - val_accuracy: 0.8247\n",
            "Epoch 31/150\n",
            "20/20 [==============================] - 0s 13ms/step - loss: 0.4665 - accuracy: 0.7671 - val_loss: 0.4541 - val_accuracy: 0.8052\n",
            "Epoch 32/150\n",
            "20/20 [==============================] - 0s 12ms/step - loss: 0.4797 - accuracy: 0.7785 - val_loss: 0.4478 - val_accuracy: 0.8052\n",
            "Epoch 33/150\n",
            "20/20 [==============================] - 0s 12ms/step - loss: 0.4648 - accuracy: 0.7736 - val_loss: 0.4664 - val_accuracy: 0.7857\n",
            "Epoch 34/150\n",
            "20/20 [==============================] - 0s 12ms/step - loss: 0.4648 - accuracy: 0.7818 - val_loss: 0.4548 - val_accuracy: 0.7857\n",
            "Epoch 35/150\n",
            "20/20 [==============================] - 0s 13ms/step - loss: 0.4618 - accuracy: 0.7801 - val_loss: 0.4447 - val_accuracy: 0.8182\n",
            "Epoch 36/150\n",
            "20/20 [==============================] - 0s 12ms/step - loss: 0.4531 - accuracy: 0.7801 - val_loss: 0.4526 - val_accuracy: 0.7857\n",
            "Epoch 37/150\n",
            "20/20 [==============================] - 0s 12ms/step - loss: 0.4645 - accuracy: 0.7769 - val_loss: 0.4415 - val_accuracy: 0.8117\n",
            "Epoch 38/150\n",
            "20/20 [==============================] - 0s 12ms/step - loss: 0.4660 - accuracy: 0.7752 - val_loss: 0.4636 - val_accuracy: 0.7857\n",
            "Epoch 39/150\n",
            "20/20 [==============================] - 0s 14ms/step - loss: 0.4528 - accuracy: 0.7736 - val_loss: 0.4438 - val_accuracy: 0.8052\n",
            "Epoch 40/150\n",
            "20/20 [==============================] - 0s 12ms/step - loss: 0.4725 - accuracy: 0.7638 - val_loss: 0.4500 - val_accuracy: 0.7987\n",
            "Epoch 41/150\n",
            "20/20 [==============================] - 0s 13ms/step - loss: 0.4561 - accuracy: 0.7736 - val_loss: 0.4478 - val_accuracy: 0.8052\n",
            "Epoch 42/150\n",
            "20/20 [==============================] - 0s 12ms/step - loss: 0.4582 - accuracy: 0.7785 - val_loss: 0.4449 - val_accuracy: 0.8117\n",
            "Epoch 43/150\n",
            "20/20 [==============================] - 0s 13ms/step - loss: 0.4781 - accuracy: 0.7622 - val_loss: 0.4511 - val_accuracy: 0.7727\n",
            "Epoch 44/150\n",
            "20/20 [==============================] - 0s 13ms/step - loss: 0.4647 - accuracy: 0.7769 - val_loss: 0.4498 - val_accuracy: 0.8052\n",
            "Epoch 45/150\n",
            "20/20 [==============================] - 0s 12ms/step - loss: 0.4580 - accuracy: 0.7736 - val_loss: 0.4436 - val_accuracy: 0.7987\n",
            "Epoch 46/150\n",
            "20/20 [==============================] - 0s 12ms/step - loss: 0.4605 - accuracy: 0.7850 - val_loss: 0.4555 - val_accuracy: 0.7987\n",
            "Epoch 47/150\n",
            "20/20 [==============================] - 0s 13ms/step - loss: 0.4593 - accuracy: 0.7818 - val_loss: 0.4487 - val_accuracy: 0.8117\n",
            "Epoch 48/150\n",
            "20/20 [==============================] - 0s 11ms/step - loss: 0.4643 - accuracy: 0.7785 - val_loss: 0.4482 - val_accuracy: 0.8247\n",
            "Epoch 49/150\n",
            "20/20 [==============================] - 0s 12ms/step - loss: 0.4632 - accuracy: 0.7736 - val_loss: 0.4431 - val_accuracy: 0.7987\n",
            "Epoch 50/150\n",
            "20/20 [==============================] - 0s 12ms/step - loss: 0.4572 - accuracy: 0.7704 - val_loss: 0.4389 - val_accuracy: 0.8117\n",
            "Epoch 51/150\n",
            "20/20 [==============================] - 0s 13ms/step - loss: 0.4706 - accuracy: 0.7818 - val_loss: 0.4387 - val_accuracy: 0.8052\n",
            "Epoch 52/150\n",
            "20/20 [==============================] - 0s 12ms/step - loss: 0.4491 - accuracy: 0.7866 - val_loss: 0.4499 - val_accuracy: 0.8182\n",
            "Epoch 53/150\n",
            "20/20 [==============================] - 0s 12ms/step - loss: 0.4565 - accuracy: 0.7622 - val_loss: 0.4400 - val_accuracy: 0.8117\n",
            "Epoch 54/150\n",
            "20/20 [==============================] - 0s 11ms/step - loss: 0.4388 - accuracy: 0.7964 - val_loss: 0.4463 - val_accuracy: 0.8312\n",
            "Epoch 55/150\n",
            "20/20 [==============================] - 0s 13ms/step - loss: 0.4449 - accuracy: 0.7752 - val_loss: 0.4295 - val_accuracy: 0.8247\n",
            "Epoch 56/150\n",
            "20/20 [==============================] - 0s 12ms/step - loss: 0.4508 - accuracy: 0.7752 - val_loss: 0.4313 - val_accuracy: 0.8247\n",
            "Epoch 57/150\n",
            "20/20 [==============================] - 0s 14ms/step - loss: 0.4268 - accuracy: 0.7899 - val_loss: 0.4443 - val_accuracy: 0.8312\n",
            "Epoch 58/150\n",
            "20/20 [==============================] - 0s 20ms/step - loss: 0.4508 - accuracy: 0.7785 - val_loss: 0.4310 - val_accuracy: 0.8182\n",
            "Epoch 59/150\n",
            "20/20 [==============================] - 0s 18ms/step - loss: 0.4356 - accuracy: 0.7850 - val_loss: 0.4368 - val_accuracy: 0.8052\n",
            "Epoch 60/150\n",
            "20/20 [==============================] - 0s 19ms/step - loss: 0.4378 - accuracy: 0.7980 - val_loss: 0.4430 - val_accuracy: 0.8117\n",
            "Epoch 61/150\n",
            "20/20 [==============================] - 0s 17ms/step - loss: 0.4325 - accuracy: 0.7736 - val_loss: 0.4349 - val_accuracy: 0.8182\n",
            "Epoch 62/150\n",
            "20/20 [==============================] - 0s 21ms/step - loss: 0.4340 - accuracy: 0.7850 - val_loss: 0.4315 - val_accuracy: 0.8312\n",
            "Epoch 63/150\n",
            "20/20 [==============================] - 0s 20ms/step - loss: 0.4143 - accuracy: 0.7915 - val_loss: 0.4402 - val_accuracy: 0.8052\n",
            "Epoch 64/150\n",
            "20/20 [==============================] - 0s 20ms/step - loss: 0.4359 - accuracy: 0.7801 - val_loss: 0.4328 - val_accuracy: 0.8247\n",
            "Epoch 65/150\n",
            "20/20 [==============================] - 0s 19ms/step - loss: 0.4319 - accuracy: 0.7883 - val_loss: 0.4311 - val_accuracy: 0.8247\n",
            "Epoch 66/150\n",
            "20/20 [==============================] - 0s 19ms/step - loss: 0.4228 - accuracy: 0.7948 - val_loss: 0.4397 - val_accuracy: 0.8182\n",
            "Epoch 67/150\n",
            "20/20 [==============================] - 0s 20ms/step - loss: 0.4234 - accuracy: 0.7883 - val_loss: 0.4272 - val_accuracy: 0.8117\n",
            "Epoch 68/150\n",
            "20/20 [==============================] - 0s 17ms/step - loss: 0.4154 - accuracy: 0.8029 - val_loss: 0.4355 - val_accuracy: 0.8052\n",
            "Epoch 69/150\n",
            "20/20 [==============================] - 0s 12ms/step - loss: 0.4401 - accuracy: 0.7980 - val_loss: 0.4325 - val_accuracy: 0.7922\n",
            "Epoch 70/150\n",
            "20/20 [==============================] - 0s 12ms/step - loss: 0.4198 - accuracy: 0.7850 - val_loss: 0.4240 - val_accuracy: 0.8117\n",
            "Epoch 71/150\n",
            "20/20 [==============================] - 0s 12ms/step - loss: 0.4138 - accuracy: 0.8062 - val_loss: 0.4412 - val_accuracy: 0.8052\n",
            "Epoch 72/150\n",
            "20/20 [==============================] - 0s 12ms/step - loss: 0.4215 - accuracy: 0.8127 - val_loss: 0.4278 - val_accuracy: 0.8117\n",
            "Epoch 73/150\n",
            "20/20 [==============================] - 0s 12ms/step - loss: 0.4221 - accuracy: 0.8078 - val_loss: 0.4370 - val_accuracy: 0.8247\n",
            "Epoch 74/150\n",
            "20/20 [==============================] - 0s 13ms/step - loss: 0.4126 - accuracy: 0.8029 - val_loss: 0.4362 - val_accuracy: 0.7987\n",
            "Epoch 75/150\n",
            "20/20 [==============================] - 0s 13ms/step - loss: 0.4405 - accuracy: 0.7818 - val_loss: 0.4397 - val_accuracy: 0.7922\n",
            "Epoch 76/150\n",
            "20/20 [==============================] - 0s 12ms/step - loss: 0.4055 - accuracy: 0.8062 - val_loss: 0.4284 - val_accuracy: 0.7987\n",
            "Epoch 77/150\n",
            "20/20 [==============================] - 0s 12ms/step - loss: 0.4212 - accuracy: 0.7866 - val_loss: 0.4192 - val_accuracy: 0.8247\n",
            "Epoch 78/150\n",
            "20/20 [==============================] - 0s 12ms/step - loss: 0.4128 - accuracy: 0.8029 - val_loss: 0.4293 - val_accuracy: 0.8182\n",
            "Epoch 79/150\n",
            "20/20 [==============================] - 0s 12ms/step - loss: 0.4142 - accuracy: 0.7964 - val_loss: 0.4329 - val_accuracy: 0.8117\n",
            "Epoch 80/150\n",
            "20/20 [==============================] - 0s 13ms/step - loss: 0.4060 - accuracy: 0.8225 - val_loss: 0.4272 - val_accuracy: 0.8052\n",
            "Epoch 81/150\n",
            "20/20 [==============================] - 0s 13ms/step - loss: 0.3943 - accuracy: 0.7915 - val_loss: 0.4291 - val_accuracy: 0.8052\n",
            "Epoch 82/150\n",
            "20/20 [==============================] - 0s 13ms/step - loss: 0.4077 - accuracy: 0.8046 - val_loss: 0.4401 - val_accuracy: 0.7922\n",
            "Epoch 83/150\n",
            "20/20 [==============================] - 0s 12ms/step - loss: 0.4337 - accuracy: 0.7883 - val_loss: 0.4312 - val_accuracy: 0.8052\n",
            "Epoch 84/150\n",
            "20/20 [==============================] - 0s 12ms/step - loss: 0.4017 - accuracy: 0.8029 - val_loss: 0.4566 - val_accuracy: 0.8117\n",
            "Epoch 85/150\n",
            "20/20 [==============================] - 0s 13ms/step - loss: 0.4136 - accuracy: 0.8029 - val_loss: 0.4491 - val_accuracy: 0.7987\n",
            "Epoch 86/150\n",
            "20/20 [==============================] - 0s 13ms/step - loss: 0.4125 - accuracy: 0.8094 - val_loss: 0.4394 - val_accuracy: 0.7987\n",
            "Epoch 87/150\n",
            "20/20 [==============================] - 0s 12ms/step - loss: 0.3934 - accuracy: 0.8241 - val_loss: 0.4509 - val_accuracy: 0.8052\n",
            "Epoch 88/150\n",
            "20/20 [==============================] - 0s 15ms/step - loss: 0.4085 - accuracy: 0.8046 - val_loss: 0.4453 - val_accuracy: 0.7922\n",
            "Epoch 89/150\n",
            "20/20 [==============================] - 0s 13ms/step - loss: 0.4066 - accuracy: 0.7964 - val_loss: 0.4448 - val_accuracy: 0.7987\n",
            "Epoch 90/150\n",
            "20/20 [==============================] - 0s 13ms/step - loss: 0.3784 - accuracy: 0.8046 - val_loss: 0.4397 - val_accuracy: 0.7922\n",
            "Epoch 91/150\n",
            "20/20 [==============================] - 0s 13ms/step - loss: 0.4064 - accuracy: 0.7997 - val_loss: 0.4600 - val_accuracy: 0.7792\n",
            "Epoch 92/150\n",
            "20/20 [==============================] - 0s 15ms/step - loss: 0.4228 - accuracy: 0.8094 - val_loss: 0.4469 - val_accuracy: 0.7987\n",
            "Epoch 93/150\n",
            "20/20 [==============================] - 0s 12ms/step - loss: 0.4001 - accuracy: 0.8094 - val_loss: 0.4606 - val_accuracy: 0.7922\n",
            "Epoch 94/150\n",
            "20/20 [==============================] - 0s 13ms/step - loss: 0.3911 - accuracy: 0.8094 - val_loss: 0.4467 - val_accuracy: 0.7922\n",
            "Epoch 95/150\n",
            "20/20 [==============================] - 0s 13ms/step - loss: 0.4003 - accuracy: 0.8062 - val_loss: 0.4491 - val_accuracy: 0.7987\n",
            "Epoch 96/150\n",
            "20/20 [==============================] - 0s 13ms/step - loss: 0.3741 - accuracy: 0.8257 - val_loss: 0.4451 - val_accuracy: 0.7987\n",
            "Epoch 97/150\n",
            "20/20 [==============================] - 0s 13ms/step - loss: 0.3995 - accuracy: 0.8094 - val_loss: 0.4513 - val_accuracy: 0.7922\n",
            "Epoch 98/150\n",
            "20/20 [==============================] - 0s 12ms/step - loss: 0.3750 - accuracy: 0.8143 - val_loss: 0.4493 - val_accuracy: 0.7987\n",
            "Epoch 99/150\n",
            "20/20 [==============================] - 0s 13ms/step - loss: 0.3650 - accuracy: 0.8420 - val_loss: 0.4672 - val_accuracy: 0.7987\n",
            "Epoch 100/150\n",
            "20/20 [==============================] - 0s 13ms/step - loss: 0.3679 - accuracy: 0.8436 - val_loss: 0.4592 - val_accuracy: 0.7792\n",
            "Epoch 101/150\n",
            "20/20 [==============================] - 0s 12ms/step - loss: 0.3799 - accuracy: 0.8241 - val_loss: 0.4542 - val_accuracy: 0.7922\n",
            "Epoch 102/150\n",
            "20/20 [==============================] - 0s 12ms/step - loss: 0.4040 - accuracy: 0.8143 - val_loss: 0.4453 - val_accuracy: 0.8052\n",
            "Epoch 103/150\n",
            "20/20 [==============================] - 0s 12ms/step - loss: 0.3865 - accuracy: 0.8208 - val_loss: 0.4523 - val_accuracy: 0.7857\n",
            "Epoch 104/150\n",
            "20/20 [==============================] - 0s 13ms/step - loss: 0.3891 - accuracy: 0.8094 - val_loss: 0.4591 - val_accuracy: 0.7922\n",
            "Epoch 105/150\n",
            "20/20 [==============================] - 0s 12ms/step - loss: 0.3594 - accuracy: 0.8355 - val_loss: 0.4577 - val_accuracy: 0.7987\n",
            "Epoch 106/150\n",
            "20/20 [==============================] - 0s 12ms/step - loss: 0.3677 - accuracy: 0.8306 - val_loss: 0.4403 - val_accuracy: 0.7987\n",
            "Epoch 107/150\n",
            "20/20 [==============================] - 0s 19ms/step - loss: 0.3535 - accuracy: 0.8355 - val_loss: 0.4573 - val_accuracy: 0.8182\n",
            "Epoch 108/150\n",
            "20/20 [==============================] - 0s 20ms/step - loss: 0.3495 - accuracy: 0.8550 - val_loss: 0.4594 - val_accuracy: 0.7922\n",
            "Epoch 109/150\n",
            "20/20 [==============================] - 0s 20ms/step - loss: 0.3513 - accuracy: 0.8436 - val_loss: 0.4441 - val_accuracy: 0.8117\n",
            "Epoch 110/150\n",
            "20/20 [==============================] - 0s 19ms/step - loss: 0.3455 - accuracy: 0.8469 - val_loss: 0.4568 - val_accuracy: 0.8117\n",
            "Epoch 111/150\n",
            "20/20 [==============================] - 0s 19ms/step - loss: 0.3794 - accuracy: 0.8290 - val_loss: 0.4603 - val_accuracy: 0.7987\n",
            "Epoch 112/150\n",
            "20/20 [==============================] - 0s 18ms/step - loss: 0.3693 - accuracy: 0.8208 - val_loss: 0.4558 - val_accuracy: 0.7987\n",
            "Epoch 113/150\n",
            "20/20 [==============================] - 0s 17ms/step - loss: 0.3643 - accuracy: 0.8404 - val_loss: 0.4489 - val_accuracy: 0.7857\n",
            "Epoch 114/150\n",
            "20/20 [==============================] - 0s 20ms/step - loss: 0.3506 - accuracy: 0.8469 - val_loss: 0.4721 - val_accuracy: 0.8052\n",
            "Epoch 115/150\n",
            "20/20 [==============================] - 0s 20ms/step - loss: 0.3467 - accuracy: 0.8485 - val_loss: 0.4578 - val_accuracy: 0.8052\n",
            "Epoch 116/150\n",
            "20/20 [==============================] - 0s 18ms/step - loss: 0.3482 - accuracy: 0.8322 - val_loss: 0.4653 - val_accuracy: 0.8052\n",
            "Epoch 117/150\n",
            "20/20 [==============================] - 0s 20ms/step - loss: 0.3471 - accuracy: 0.8534 - val_loss: 0.4656 - val_accuracy: 0.8117\n",
            "Epoch 118/150\n",
            "20/20 [==============================] - 0s 17ms/step - loss: 0.3515 - accuracy: 0.8436 - val_loss: 0.4654 - val_accuracy: 0.8117\n",
            "Epoch 119/150\n",
            "20/20 [==============================] - 0s 12ms/step - loss: 0.3374 - accuracy: 0.8290 - val_loss: 0.4790 - val_accuracy: 0.8052\n",
            "Epoch 120/150\n",
            "20/20 [==============================] - 0s 13ms/step - loss: 0.3274 - accuracy: 0.8550 - val_loss: 0.4662 - val_accuracy: 0.8117\n",
            "Epoch 121/150\n",
            "20/20 [==============================] - 0s 13ms/step - loss: 0.3394 - accuracy: 0.8453 - val_loss: 0.4744 - val_accuracy: 0.8117\n",
            "Epoch 122/150\n",
            "20/20 [==============================] - 0s 12ms/step - loss: 0.3373 - accuracy: 0.8632 - val_loss: 0.4695 - val_accuracy: 0.8117\n",
            "Epoch 123/150\n",
            "20/20 [==============================] - 0s 12ms/step - loss: 0.3328 - accuracy: 0.8453 - val_loss: 0.4571 - val_accuracy: 0.7987\n",
            "Epoch 124/150\n",
            "20/20 [==============================] - 0s 12ms/step - loss: 0.3240 - accuracy: 0.8648 - val_loss: 0.4613 - val_accuracy: 0.8117\n",
            "Epoch 125/150\n",
            "20/20 [==============================] - 0s 12ms/step - loss: 0.3285 - accuracy: 0.8648 - val_loss: 0.4717 - val_accuracy: 0.8117\n",
            "Epoch 126/150\n",
            "20/20 [==============================] - 0s 13ms/step - loss: 0.3274 - accuracy: 0.8730 - val_loss: 0.4764 - val_accuracy: 0.7922\n",
            "Epoch 127/150\n",
            "20/20 [==============================] - 0s 13ms/step - loss: 0.3271 - accuracy: 0.8567 - val_loss: 0.4646 - val_accuracy: 0.7987\n",
            "Epoch 128/150\n",
            "20/20 [==============================] - 0s 13ms/step - loss: 0.3007 - accuracy: 0.8746 - val_loss: 0.4766 - val_accuracy: 0.8052\n",
            "Epoch 129/150\n",
            "20/20 [==============================] - 0s 13ms/step - loss: 0.3262 - accuracy: 0.8583 - val_loss: 0.4759 - val_accuracy: 0.7987\n",
            "Epoch 130/150\n",
            "20/20 [==============================] - 0s 12ms/step - loss: 0.3307 - accuracy: 0.8518 - val_loss: 0.4730 - val_accuracy: 0.7922\n",
            "Epoch 131/150\n",
            "20/20 [==============================] - 0s 12ms/step - loss: 0.3197 - accuracy: 0.8567 - val_loss: 0.4858 - val_accuracy: 0.7922\n",
            "Epoch 132/150\n",
            "20/20 [==============================] - 0s 13ms/step - loss: 0.2977 - accuracy: 0.8697 - val_loss: 0.4694 - val_accuracy: 0.7792\n",
            "Epoch 133/150\n",
            "20/20 [==============================] - 0s 14ms/step - loss: 0.3088 - accuracy: 0.8713 - val_loss: 0.4649 - val_accuracy: 0.8052\n",
            "Epoch 134/150\n",
            "20/20 [==============================] - 0s 12ms/step - loss: 0.3065 - accuracy: 0.8599 - val_loss: 0.4815 - val_accuracy: 0.7987\n",
            "Epoch 135/150\n",
            "20/20 [==============================] - 0s 13ms/step - loss: 0.3261 - accuracy: 0.8550 - val_loss: 0.4818 - val_accuracy: 0.7987\n",
            "Epoch 136/150\n",
            "20/20 [==============================] - 0s 13ms/step - loss: 0.2936 - accuracy: 0.8762 - val_loss: 0.4765 - val_accuracy: 0.7922\n",
            "Epoch 137/150\n",
            "20/20 [==============================] - 0s 12ms/step - loss: 0.3121 - accuracy: 0.8713 - val_loss: 0.4844 - val_accuracy: 0.8052\n",
            "Epoch 138/150\n",
            "20/20 [==============================] - 0s 12ms/step - loss: 0.2902 - accuracy: 0.8860 - val_loss: 0.4800 - val_accuracy: 0.8052\n",
            "Epoch 139/150\n",
            "20/20 [==============================] - 0s 12ms/step - loss: 0.2936 - accuracy: 0.8795 - val_loss: 0.4803 - val_accuracy: 0.7857\n",
            "Epoch 140/150\n",
            "20/20 [==============================] - 0s 13ms/step - loss: 0.3049 - accuracy: 0.8795 - val_loss: 0.4713 - val_accuracy: 0.7987\n",
            "Epoch 141/150\n",
            "20/20 [==============================] - 0s 13ms/step - loss: 0.2809 - accuracy: 0.8795 - val_loss: 0.4964 - val_accuracy: 0.7987\n",
            "Epoch 142/150\n",
            "20/20 [==============================] - 0s 12ms/step - loss: 0.3052 - accuracy: 0.8453 - val_loss: 0.4781 - val_accuracy: 0.8052\n",
            "Epoch 143/150\n",
            "20/20 [==============================] - 0s 13ms/step - loss: 0.3047 - accuracy: 0.8795 - val_loss: 0.4775 - val_accuracy: 0.8052\n",
            "Epoch 144/150\n",
            "20/20 [==============================] - 0s 13ms/step - loss: 0.2960 - accuracy: 0.8567 - val_loss: 0.4884 - val_accuracy: 0.8052\n",
            "Epoch 145/150\n",
            "20/20 [==============================] - 0s 12ms/step - loss: 0.2672 - accuracy: 0.8958 - val_loss: 0.4829 - val_accuracy: 0.8117\n",
            "Epoch 146/150\n",
            "20/20 [==============================] - 0s 13ms/step - loss: 0.3042 - accuracy: 0.8567 - val_loss: 0.4907 - val_accuracy: 0.8052\n",
            "Epoch 147/150\n",
            "20/20 [==============================] - 0s 13ms/step - loss: 0.2988 - accuracy: 0.8762 - val_loss: 0.4966 - val_accuracy: 0.7922\n",
            "Epoch 148/150\n",
            "20/20 [==============================] - 0s 13ms/step - loss: 0.2895 - accuracy: 0.8893 - val_loss: 0.4849 - val_accuracy: 0.7662\n",
            "Epoch 149/150\n",
            "20/20 [==============================] - 0s 13ms/step - loss: 0.2897 - accuracy: 0.8746 - val_loss: 0.5014 - val_accuracy: 0.8052\n",
            "Epoch 150/150\n",
            "20/20 [==============================] - 0s 14ms/step - loss: 0.2770 - accuracy: 0.8713 - val_loss: 0.5013 - val_accuracy: 0.8052\n"
          ]
        },
        {
          "output_type": "execute_result",
          "data": {
            "text/plain": [
              "<keras.src.callbacks.History at 0x7e45772a1390>"
            ]
          },
          "metadata": {},
          "execution_count": 80
        }
      ]
    },
    {
      "cell_type": "code",
      "source": [
        "obj = kt.Objective('val_accuracy', direction='max')\n",
        "dir_name = \"v1\"\n",
        "hyperband_tuner = build_tuner(build_model, \"Hyperband\", obj, dir_name)\n",
        "hyperband_tuner.search(X_train, y_train, epochs=5, validation_data=(X_test, y_test))"
      ],
      "metadata": {
        "colab": {
          "base_uri": "https://localhost:8080/"
        },
        "id": "h_cc6zRqg1U_",
        "outputId": "f76d2a67-54ff-4231-8068-e70c1705e24c"
      },
      "execution_count": 84,
      "outputs": [
        {
          "output_type": "stream",
          "name": "stdout",
          "text": [
            "Reloading Tuner from ./Hyperband/tuner0.json\n"
          ]
        }
      ]
    },
    {
      "cell_type": "code",
      "source": [
        "model = build_model(hyperband_tuner.get_best_hyperparameters(1)[0])\n",
        "model.fit(X_train,y_train,batch_size=32, epochs=50, validation_data=(X_test,y_test))"
      ],
      "metadata": {
        "colab": {
          "base_uri": "https://localhost:8080/"
        },
        "id": "w1Gl0fbzjDe6",
        "outputId": "67126f99-cd5d-4962-fd5c-62ddd1cdc5f1"
      },
      "execution_count": 86,
      "outputs": [
        {
          "output_type": "stream",
          "name": "stdout",
          "text": [
            "Epoch 1/50\n",
            "20/20 [==============================] - 1s 12ms/step - loss: 1.4590 - accuracy: 0.6336 - val_loss: 0.7578 - val_accuracy: 0.8117\n",
            "Epoch 2/50\n",
            "20/20 [==============================] - 0s 5ms/step - loss: 0.6427 - accuracy: 0.7704 - val_loss: 0.5205 - val_accuracy: 0.7857\n",
            "Epoch 3/50\n",
            "20/20 [==============================] - 0s 4ms/step - loss: 0.5134 - accuracy: 0.7524 - val_loss: 0.4926 - val_accuracy: 0.7857\n",
            "Epoch 4/50\n",
            "20/20 [==============================] - 0s 5ms/step - loss: 0.4951 - accuracy: 0.7541 - val_loss: 0.4727 - val_accuracy: 0.7922\n",
            "Epoch 5/50\n",
            "20/20 [==============================] - 0s 7ms/step - loss: 0.4821 - accuracy: 0.7720 - val_loss: 0.4978 - val_accuracy: 0.7727\n",
            "Epoch 6/50\n",
            "20/20 [==============================] - 0s 5ms/step - loss: 0.5092 - accuracy: 0.7524 - val_loss: 0.4747 - val_accuracy: 0.7857\n",
            "Epoch 7/50\n",
            "20/20 [==============================] - 0s 4ms/step - loss: 0.4818 - accuracy: 0.7818 - val_loss: 0.4827 - val_accuracy: 0.7662\n",
            "Epoch 8/50\n",
            "20/20 [==============================] - 0s 5ms/step - loss: 0.4884 - accuracy: 0.7606 - val_loss: 0.4901 - val_accuracy: 0.7857\n",
            "Epoch 9/50\n",
            "20/20 [==============================] - 0s 5ms/step - loss: 0.4780 - accuracy: 0.7801 - val_loss: 0.4754 - val_accuracy: 0.7727\n",
            "Epoch 10/50\n",
            "20/20 [==============================] - 0s 5ms/step - loss: 0.4828 - accuracy: 0.7671 - val_loss: 0.4793 - val_accuracy: 0.7662\n",
            "Epoch 11/50\n",
            "20/20 [==============================] - 0s 5ms/step - loss: 0.4846 - accuracy: 0.7655 - val_loss: 0.4715 - val_accuracy: 0.8052\n",
            "Epoch 12/50\n",
            "20/20 [==============================] - 0s 4ms/step - loss: 0.4705 - accuracy: 0.7704 - val_loss: 0.4694 - val_accuracy: 0.7857\n",
            "Epoch 13/50\n",
            "20/20 [==============================] - 0s 4ms/step - loss: 0.4797 - accuracy: 0.7655 - val_loss: 0.4818 - val_accuracy: 0.8117\n",
            "Epoch 14/50\n",
            "20/20 [==============================] - 0s 4ms/step - loss: 0.4668 - accuracy: 0.7834 - val_loss: 0.4724 - val_accuracy: 0.7857\n",
            "Epoch 15/50\n",
            "20/20 [==============================] - 0s 4ms/step - loss: 0.4701 - accuracy: 0.7687 - val_loss: 0.4744 - val_accuracy: 0.8182\n",
            "Epoch 16/50\n",
            "20/20 [==============================] - 0s 5ms/step - loss: 0.4879 - accuracy: 0.7687 - val_loss: 0.4715 - val_accuracy: 0.7727\n",
            "Epoch 17/50\n",
            "20/20 [==============================] - 0s 4ms/step - loss: 0.4750 - accuracy: 0.7736 - val_loss: 0.4701 - val_accuracy: 0.7792\n",
            "Epoch 18/50\n",
            "20/20 [==============================] - 0s 5ms/step - loss: 0.4761 - accuracy: 0.7704 - val_loss: 0.4743 - val_accuracy: 0.7857\n",
            "Epoch 19/50\n",
            "20/20 [==============================] - 0s 5ms/step - loss: 0.4694 - accuracy: 0.7801 - val_loss: 0.4769 - val_accuracy: 0.7792\n",
            "Epoch 20/50\n",
            "20/20 [==============================] - 0s 5ms/step - loss: 0.4859 - accuracy: 0.7671 - val_loss: 0.4698 - val_accuracy: 0.7857\n",
            "Epoch 21/50\n",
            "20/20 [==============================] - 0s 5ms/step - loss: 0.4869 - accuracy: 0.7752 - val_loss: 0.4746 - val_accuracy: 0.8182\n",
            "Epoch 22/50\n",
            "20/20 [==============================] - 0s 5ms/step - loss: 0.4743 - accuracy: 0.7736 - val_loss: 0.4825 - val_accuracy: 0.7857\n",
            "Epoch 23/50\n",
            "20/20 [==============================] - 0s 4ms/step - loss: 0.4602 - accuracy: 0.7769 - val_loss: 0.4670 - val_accuracy: 0.7987\n",
            "Epoch 24/50\n",
            "20/20 [==============================] - 0s 5ms/step - loss: 0.4595 - accuracy: 0.7752 - val_loss: 0.4676 - val_accuracy: 0.7857\n",
            "Epoch 25/50\n",
            "20/20 [==============================] - 0s 4ms/step - loss: 0.4576 - accuracy: 0.7769 - val_loss: 0.4645 - val_accuracy: 0.7727\n",
            "Epoch 26/50\n",
            "20/20 [==============================] - 0s 4ms/step - loss: 0.4596 - accuracy: 0.7736 - val_loss: 0.4628 - val_accuracy: 0.7987\n",
            "Epoch 27/50\n",
            "20/20 [==============================] - 0s 4ms/step - loss: 0.4575 - accuracy: 0.7769 - val_loss: 0.4686 - val_accuracy: 0.7857\n",
            "Epoch 28/50\n",
            "20/20 [==============================] - 0s 5ms/step - loss: 0.4560 - accuracy: 0.7785 - val_loss: 0.4634 - val_accuracy: 0.7922\n",
            "Epoch 29/50\n",
            "20/20 [==============================] - 0s 5ms/step - loss: 0.4521 - accuracy: 0.7834 - val_loss: 0.4680 - val_accuracy: 0.8117\n",
            "Epoch 30/50\n",
            "20/20 [==============================] - 0s 5ms/step - loss: 0.4597 - accuracy: 0.7769 - val_loss: 0.4728 - val_accuracy: 0.7922\n",
            "Epoch 31/50\n",
            "20/20 [==============================] - 0s 4ms/step - loss: 0.4599 - accuracy: 0.7606 - val_loss: 0.4606 - val_accuracy: 0.7792\n",
            "Epoch 32/50\n",
            "20/20 [==============================] - 0s 4ms/step - loss: 0.4566 - accuracy: 0.7720 - val_loss: 0.4691 - val_accuracy: 0.7792\n",
            "Epoch 33/50\n",
            "20/20 [==============================] - 0s 4ms/step - loss: 0.4535 - accuracy: 0.7932 - val_loss: 0.4618 - val_accuracy: 0.7987\n",
            "Epoch 34/50\n",
            "20/20 [==============================] - 0s 4ms/step - loss: 0.4583 - accuracy: 0.7818 - val_loss: 0.4609 - val_accuracy: 0.7987\n",
            "Epoch 35/50\n",
            "20/20 [==============================] - 0s 5ms/step - loss: 0.4626 - accuracy: 0.7655 - val_loss: 0.4655 - val_accuracy: 0.8117\n",
            "Epoch 36/50\n",
            "20/20 [==============================] - 0s 4ms/step - loss: 0.4523 - accuracy: 0.7769 - val_loss: 0.4697 - val_accuracy: 0.7987\n",
            "Epoch 37/50\n",
            "20/20 [==============================] - 0s 6ms/step - loss: 0.4550 - accuracy: 0.7801 - val_loss: 0.4648 - val_accuracy: 0.7792\n",
            "Epoch 38/50\n",
            "20/20 [==============================] - 0s 4ms/step - loss: 0.4617 - accuracy: 0.7736 - val_loss: 0.4638 - val_accuracy: 0.7792\n",
            "Epoch 39/50\n",
            "20/20 [==============================] - 0s 4ms/step - loss: 0.4487 - accuracy: 0.7785 - val_loss: 0.4614 - val_accuracy: 0.8117\n",
            "Epoch 40/50\n",
            "20/20 [==============================] - 0s 4ms/step - loss: 0.4472 - accuracy: 0.7801 - val_loss: 0.4615 - val_accuracy: 0.7987\n",
            "Epoch 41/50\n",
            "20/20 [==============================] - 0s 4ms/step - loss: 0.4465 - accuracy: 0.7801 - val_loss: 0.4493 - val_accuracy: 0.8117\n",
            "Epoch 42/50\n",
            "20/20 [==============================] - 0s 4ms/step - loss: 0.4502 - accuracy: 0.7801 - val_loss: 0.4641 - val_accuracy: 0.8052\n",
            "Epoch 43/50\n",
            "20/20 [==============================] - 0s 4ms/step - loss: 0.4478 - accuracy: 0.7915 - val_loss: 0.4615 - val_accuracy: 0.7987\n",
            "Epoch 44/50\n",
            "20/20 [==============================] - 0s 4ms/step - loss: 0.4533 - accuracy: 0.7801 - val_loss: 0.4519 - val_accuracy: 0.8117\n",
            "Epoch 45/50\n",
            "20/20 [==============================] - 0s 4ms/step - loss: 0.4498 - accuracy: 0.7704 - val_loss: 0.4601 - val_accuracy: 0.7922\n",
            "Epoch 46/50\n",
            "20/20 [==============================] - 0s 5ms/step - loss: 0.4457 - accuracy: 0.7899 - val_loss: 0.4432 - val_accuracy: 0.8052\n",
            "Epoch 47/50\n",
            "20/20 [==============================] - 0s 5ms/step - loss: 0.4374 - accuracy: 0.7801 - val_loss: 0.4512 - val_accuracy: 0.7987\n",
            "Epoch 48/50\n",
            "20/20 [==============================] - 0s 5ms/step - loss: 0.4390 - accuracy: 0.7834 - val_loss: 0.4508 - val_accuracy: 0.7857\n",
            "Epoch 49/50\n",
            "20/20 [==============================] - 0s 4ms/step - loss: 0.4446 - accuracy: 0.7883 - val_loss: 0.4527 - val_accuracy: 0.7792\n",
            "Epoch 50/50\n",
            "20/20 [==============================] - 0s 5ms/step - loss: 0.4428 - accuracy: 0.7801 - val_loss: 0.4517 - val_accuracy: 0.7922\n"
          ]
        },
        {
          "output_type": "execute_result",
          "data": {
            "text/plain": [
              "<keras.src.callbacks.History at 0x7e4575de7dc0>"
            ]
          },
          "metadata": {},
          "execution_count": 86
        }
      ]
    },
    {
      "cell_type": "code",
      "source": [
        "obj = kt.Objective('val_accuracy', direction='max')\n",
        "dir_name = \"v1\"\n",
        "BayesianOptimization_tuner = build_tuner(build_model,\"BayesianOptimization\", obj, dir_name)\n",
        "BayesianOptimization_tuner.search(X_train, y_train, epochs=5, validation_data=(X_test, y_test))"
      ],
      "metadata": {
        "colab": {
          "base_uri": "https://localhost:8080/",
          "height": 1000
        },
        "id": "bIuxpLC1jjC4",
        "outputId": "7c7eb1b2-d979-49d0-e12b-fa24652f38f3"
      },
      "execution_count": 94,
      "outputs": [
        {
          "output_type": "stream",
          "name": "stdout",
          "text": [
            "Reloading Tuner from ./BayesianOptimization/tuner0.json\n",
            "\n",
            "Search: Running Trial #3\n",
            "\n",
            "Value             |Best Value So Far |Hyperparameter\n",
            "relu              |relu              |activation\n",
            "adamax            |adamax            |optimizer\n",
            "0.0020582         |0.0020582         |learning_rate\n",
            "443               |443               |0_units\n",
            "3                 |3                 |n_layers\n",
            "True              |True              |dropout\n",
            "\n"
          ]
        },
        {
          "output_type": "stream",
          "name": "stderr",
          "text": [
            "Traceback (most recent call last):\n",
            "  File \"/usr/local/lib/python3.10/dist-packages/keras_tuner/src/engine/base_tuner.py\", line 273, in _try_run_and_update_trial\n",
            "    self._run_and_update_trial(trial, *fit_args, **fit_kwargs)\n",
            "  File \"/usr/local/lib/python3.10/dist-packages/keras_tuner/src/engine/base_tuner.py\", line 238, in _run_and_update_trial\n",
            "    results = self.run_trial(trial, *fit_args, **fit_kwargs)\n",
            "  File \"/usr/local/lib/python3.10/dist-packages/keras_tuner/src/engine/tuner.py\", line 314, in run_trial\n",
            "    obj_value = self._build_and_fit_model(trial, *args, **copied_kwargs)\n",
            "  File \"/usr/local/lib/python3.10/dist-packages/keras_tuner/src/engine/tuner.py\", line 232, in _build_and_fit_model\n",
            "    model = self._try_build(hp)\n",
            "  File \"/usr/local/lib/python3.10/dist-packages/keras_tuner/src/engine/tuner.py\", line 164, in _try_build\n",
            "    model = self._build_hypermodel(hp)\n",
            "  File \"/usr/local/lib/python3.10/dist-packages/keras_tuner/src/engine/tuner.py\", line 155, in _build_hypermodel\n",
            "    model = self.hypermodel.build(hp)\n",
            "  File \"<ipython-input-93-d0c94edbc655>\", line 36, in build_model\n",
            "    raise(\"Not supported optimizer\")\n",
            "TypeError: exceptions must derive from BaseException\n"
          ]
        },
        {
          "output_type": "error",
          "ename": "RuntimeError",
          "evalue": "ignored",
          "traceback": [
            "\u001b[0;31m---------------------------------------------------------------------------\u001b[0m",
            "\u001b[0;31mRuntimeError\u001b[0m                              Traceback (most recent call last)",
            "\u001b[0;32m<ipython-input-94-677f696aa348>\u001b[0m in \u001b[0;36m<cell line: 4>\u001b[0;34m()\u001b[0m\n\u001b[1;32m      2\u001b[0m \u001b[0mdir_name\u001b[0m \u001b[0;34m=\u001b[0m \u001b[0;34m\"v1\"\u001b[0m\u001b[0;34m\u001b[0m\u001b[0;34m\u001b[0m\u001b[0m\n\u001b[1;32m      3\u001b[0m \u001b[0mBayesianOptimization_tuner\u001b[0m \u001b[0;34m=\u001b[0m \u001b[0mbuild_tuner\u001b[0m\u001b[0;34m(\u001b[0m\u001b[0mbuild_model\u001b[0m\u001b[0;34m,\u001b[0m\u001b[0;34m\"BayesianOptimization\"\u001b[0m\u001b[0;34m,\u001b[0m \u001b[0mobj\u001b[0m\u001b[0;34m,\u001b[0m \u001b[0mdir_name\u001b[0m\u001b[0;34m)\u001b[0m\u001b[0;34m\u001b[0m\u001b[0;34m\u001b[0m\u001b[0m\n\u001b[0;32m----> 4\u001b[0;31m \u001b[0mBayesianOptimization_tuner\u001b[0m\u001b[0;34m.\u001b[0m\u001b[0msearch\u001b[0m\u001b[0;34m(\u001b[0m\u001b[0mX_train\u001b[0m\u001b[0;34m,\u001b[0m \u001b[0my_train\u001b[0m\u001b[0;34m,\u001b[0m \u001b[0mepochs\u001b[0m\u001b[0;34m=\u001b[0m\u001b[0;36m5\u001b[0m\u001b[0;34m,\u001b[0m \u001b[0mvalidation_data\u001b[0m\u001b[0;34m=\u001b[0m\u001b[0;34m(\u001b[0m\u001b[0mX_test\u001b[0m\u001b[0;34m,\u001b[0m \u001b[0my_test\u001b[0m\u001b[0;34m)\u001b[0m\u001b[0;34m)\u001b[0m\u001b[0;34m\u001b[0m\u001b[0;34m\u001b[0m\u001b[0m\n\u001b[0m",
            "\u001b[0;32m/usr/local/lib/python3.10/dist-packages/keras_tuner/src/engine/base_tuner.py\u001b[0m in \u001b[0;36msearch\u001b[0;34m(self, *fit_args, **fit_kwargs)\u001b[0m\n\u001b[1;32m    232\u001b[0m             \u001b[0mself\u001b[0m\u001b[0;34m.\u001b[0m\u001b[0mon_trial_begin\u001b[0m\u001b[0;34m(\u001b[0m\u001b[0mtrial\u001b[0m\u001b[0;34m)\u001b[0m\u001b[0;34m\u001b[0m\u001b[0;34m\u001b[0m\u001b[0m\n\u001b[1;32m    233\u001b[0m             \u001b[0mself\u001b[0m\u001b[0;34m.\u001b[0m\u001b[0m_try_run_and_update_trial\u001b[0m\u001b[0;34m(\u001b[0m\u001b[0mtrial\u001b[0m\u001b[0;34m,\u001b[0m \u001b[0;34m*\u001b[0m\u001b[0mfit_args\u001b[0m\u001b[0;34m,\u001b[0m \u001b[0;34m**\u001b[0m\u001b[0mfit_kwargs\u001b[0m\u001b[0;34m)\u001b[0m\u001b[0;34m\u001b[0m\u001b[0;34m\u001b[0m\u001b[0m\n\u001b[0;32m--> 234\u001b[0;31m             \u001b[0mself\u001b[0m\u001b[0;34m.\u001b[0m\u001b[0mon_trial_end\u001b[0m\u001b[0;34m(\u001b[0m\u001b[0mtrial\u001b[0m\u001b[0;34m)\u001b[0m\u001b[0;34m\u001b[0m\u001b[0;34m\u001b[0m\u001b[0m\n\u001b[0m\u001b[1;32m    235\u001b[0m         \u001b[0mself\u001b[0m\u001b[0;34m.\u001b[0m\u001b[0mon_search_end\u001b[0m\u001b[0;34m(\u001b[0m\u001b[0;34m)\u001b[0m\u001b[0;34m\u001b[0m\u001b[0;34m\u001b[0m\u001b[0m\n\u001b[1;32m    236\u001b[0m \u001b[0;34m\u001b[0m\u001b[0m\n",
            "\u001b[0;32m/usr/local/lib/python3.10/dist-packages/keras_tuner/src/engine/base_tuner.py\u001b[0m in \u001b[0;36mon_trial_end\u001b[0;34m(self, trial)\u001b[0m\n\u001b[1;32m    336\u001b[0m             \u001b[0mtrial\u001b[0m\u001b[0;34m:\u001b[0m \u001b[0mA\u001b[0m\u001b[0;31m \u001b[0m\u001b[0;31m`\u001b[0m\u001b[0mTrial\u001b[0m\u001b[0;31m`\u001b[0m \u001b[0minstance\u001b[0m\u001b[0;34m.\u001b[0m\u001b[0;34m\u001b[0m\u001b[0;34m\u001b[0m\u001b[0m\n\u001b[1;32m    337\u001b[0m         \"\"\"\n\u001b[0;32m--> 338\u001b[0;31m         \u001b[0mself\u001b[0m\u001b[0;34m.\u001b[0m\u001b[0moracle\u001b[0m\u001b[0;34m.\u001b[0m\u001b[0mend_trial\u001b[0m\u001b[0;34m(\u001b[0m\u001b[0mtrial\u001b[0m\u001b[0;34m)\u001b[0m\u001b[0;34m\u001b[0m\u001b[0;34m\u001b[0m\u001b[0m\n\u001b[0m\u001b[1;32m    339\u001b[0m         \u001b[0mself\u001b[0m\u001b[0;34m.\u001b[0m\u001b[0msave\u001b[0m\u001b[0;34m(\u001b[0m\u001b[0;34m)\u001b[0m\u001b[0;34m\u001b[0m\u001b[0;34m\u001b[0m\u001b[0m\n\u001b[1;32m    340\u001b[0m \u001b[0;34m\u001b[0m\u001b[0m\n",
            "\u001b[0;32m/usr/local/lib/python3.10/dist-packages/keras_tuner/src/engine/oracle.py\u001b[0m in \u001b[0;36mwrapped_func\u001b[0;34m(*args, **kwargs)\u001b[0m\n\u001b[1;32m    106\u001b[0m             \u001b[0mLOCKS\u001b[0m\u001b[0;34m[\u001b[0m\u001b[0moracle\u001b[0m\u001b[0;34m]\u001b[0m\u001b[0;34m.\u001b[0m\u001b[0macquire\u001b[0m\u001b[0;34m(\u001b[0m\u001b[0;34m)\u001b[0m\u001b[0;34m\u001b[0m\u001b[0;34m\u001b[0m\u001b[0m\n\u001b[1;32m    107\u001b[0m             \u001b[0mTHREADS\u001b[0m\u001b[0;34m[\u001b[0m\u001b[0moracle\u001b[0m\u001b[0;34m]\u001b[0m \u001b[0;34m=\u001b[0m \u001b[0mthread_name\u001b[0m\u001b[0;34m\u001b[0m\u001b[0;34m\u001b[0m\u001b[0m\n\u001b[0;32m--> 108\u001b[0;31m         \u001b[0mret_val\u001b[0m \u001b[0;34m=\u001b[0m \u001b[0mfunc\u001b[0m\u001b[0;34m(\u001b[0m\u001b[0;34m*\u001b[0m\u001b[0margs\u001b[0m\u001b[0;34m,\u001b[0m \u001b[0;34m**\u001b[0m\u001b[0mkwargs\u001b[0m\u001b[0;34m)\u001b[0m\u001b[0;34m\u001b[0m\u001b[0;34m\u001b[0m\u001b[0m\n\u001b[0m\u001b[1;32m    109\u001b[0m         \u001b[0;32mif\u001b[0m \u001b[0mneed_acquire\u001b[0m\u001b[0;34m:\u001b[0m\u001b[0;34m\u001b[0m\u001b[0;34m\u001b[0m\u001b[0m\n\u001b[1;32m    110\u001b[0m             \u001b[0mTHREADS\u001b[0m\u001b[0;34m[\u001b[0m\u001b[0moracle\u001b[0m\u001b[0;34m]\u001b[0m \u001b[0;34m=\u001b[0m \u001b[0;32mNone\u001b[0m\u001b[0;34m\u001b[0m\u001b[0;34m\u001b[0m\u001b[0m\n",
            "\u001b[0;32m/usr/local/lib/python3.10/dist-packages/keras_tuner/src/engine/oracle.py\u001b[0m in \u001b[0;36mend_trial\u001b[0;34m(self, trial)\u001b[0m\n\u001b[1;32m    584\u001b[0m         \u001b[0;32mif\u001b[0m \u001b[0;32mnot\u001b[0m \u001b[0mself\u001b[0m\u001b[0;34m.\u001b[0m\u001b[0m_retry\u001b[0m\u001b[0;34m(\u001b[0m\u001b[0mtrial\u001b[0m\u001b[0;34m)\u001b[0m\u001b[0;34m:\u001b[0m\u001b[0;34m\u001b[0m\u001b[0;34m\u001b[0m\u001b[0m\n\u001b[1;32m    585\u001b[0m             \u001b[0mself\u001b[0m\u001b[0;34m.\u001b[0m\u001b[0mend_order\u001b[0m\u001b[0;34m.\u001b[0m\u001b[0mappend\u001b[0m\u001b[0;34m(\u001b[0m\u001b[0mtrial\u001b[0m\u001b[0;34m.\u001b[0m\u001b[0mtrial_id\u001b[0m\u001b[0;34m)\u001b[0m\u001b[0;34m\u001b[0m\u001b[0;34m\u001b[0m\u001b[0m\n\u001b[0;32m--> 586\u001b[0;31m             \u001b[0mself\u001b[0m\u001b[0;34m.\u001b[0m\u001b[0m_check_consecutive_failures\u001b[0m\u001b[0;34m(\u001b[0m\u001b[0;34m)\u001b[0m\u001b[0;34m\u001b[0m\u001b[0;34m\u001b[0m\u001b[0m\n\u001b[0m\u001b[1;32m    587\u001b[0m \u001b[0;34m\u001b[0m\u001b[0m\n\u001b[1;32m    588\u001b[0m         \u001b[0mself\u001b[0m\u001b[0;34m.\u001b[0m\u001b[0m_save_trial\u001b[0m\u001b[0;34m(\u001b[0m\u001b[0mtrial\u001b[0m\u001b[0;34m)\u001b[0m\u001b[0;34m\u001b[0m\u001b[0;34m\u001b[0m\u001b[0m\n",
            "\u001b[0;32m/usr/local/lib/python3.10/dist-packages/keras_tuner/src/engine/oracle.py\u001b[0m in \u001b[0;36m_check_consecutive_failures\u001b[0;34m(self)\u001b[0m\n\u001b[1;32m    541\u001b[0m                 \u001b[0mconsecutive_failures\u001b[0m \u001b[0;34m=\u001b[0m \u001b[0;36m0\u001b[0m\u001b[0;34m\u001b[0m\u001b[0;34m\u001b[0m\u001b[0m\n\u001b[1;32m    542\u001b[0m             \u001b[0;32mif\u001b[0m \u001b[0mconsecutive_failures\u001b[0m \u001b[0;34m==\u001b[0m \u001b[0mself\u001b[0m\u001b[0;34m.\u001b[0m\u001b[0mmax_consecutive_failed_trials\u001b[0m\u001b[0;34m:\u001b[0m\u001b[0;34m\u001b[0m\u001b[0;34m\u001b[0m\u001b[0m\n\u001b[0;32m--> 543\u001b[0;31m                 raise RuntimeError(\n\u001b[0m\u001b[1;32m    544\u001b[0m                     \u001b[0;34m\"Number of consecutive failures exceeded the limit \"\u001b[0m\u001b[0;34m\u001b[0m\u001b[0;34m\u001b[0m\u001b[0m\n\u001b[1;32m    545\u001b[0m                     \u001b[0;34mf\"of {self.max_consecutive_failed_trials}.\\n\"\u001b[0m\u001b[0;34m\u001b[0m\u001b[0;34m\u001b[0m\u001b[0m\n",
            "\u001b[0;31mRuntimeError\u001b[0m: Number of consecutive failures exceeded the limit of 3.\nTraceback (most recent call last):\n  File \"/usr/local/lib/python3.10/dist-packages/keras_tuner/src/engine/base_tuner.py\", line 273, in _try_run_and_update_trial\n    self._run_and_update_trial(trial, *fit_args, **fit_kwargs)\n  File \"/usr/local/lib/python3.10/dist-packages/keras_tuner/src/engine/base_tuner.py\", line 238, in _run_and_update_trial\n    results = self.run_trial(trial, *fit_args, **fit_kwargs)\n  File \"/usr/local/lib/python3.10/dist-packages/keras_tuner/src/engine/tuner.py\", line 314, in run_trial\n    obj_value = self._build_and_fit_model(trial, *args, **copied_kwargs)\n  File \"/usr/local/lib/python3.10/dist-packages/keras_tuner/src/engine/tuner.py\", line 232, in _build_and_fit_model\n    model = self._try_build(hp)\n  File \"/usr/local/lib/python3.10/dist-packages/keras_tuner/src/engine/tuner.py\", line 164, in _try_build\n    model = self._build_hypermodel(hp)\n  File \"/usr/local/lib/python3.10/dist-packages/keras_tuner/src/engine/tuner.py\", line 155, in _build_hypermodel\n    model = self.hypermodel.build(hp)\n  File \"<ipython-input-93-d0c94edbc655>\", line 36, in build_model\n    raise(\"Not supported optimizer\")\nTypeError: exceptions must derive from BaseException\n"
          ]
        }
      ]
    },
    {
      "cell_type": "code",
      "source": [
        "model = build_model(BayesianOptimization_tuner.get_best_hyperparameters(1)[0])\n",
        "model.fit(X_train,y_train,batch_size=32, epochs=50, validation_data=(X_test,y_test))"
      ],
      "metadata": {
        "colab": {
          "base_uri": "https://localhost:8080/",
          "height": 314
        },
        "id": "YTvdUKz_jjGM",
        "outputId": "5542600d-133f-47a1-d54e-583ee9aa62d5"
      },
      "execution_count": 92,
      "outputs": [
        {
          "output_type": "error",
          "ename": "TypeError",
          "evalue": "ignored",
          "traceback": [
            "\u001b[0;31m---------------------------------------------------------------------------\u001b[0m",
            "\u001b[0;31mTypeError\u001b[0m                                 Traceback (most recent call last)",
            "\u001b[0;32m<ipython-input-92-b98044583581>\u001b[0m in \u001b[0;36m<cell line: 1>\u001b[0;34m()\u001b[0m\n\u001b[0;32m----> 1\u001b[0;31m \u001b[0mmodel\u001b[0m \u001b[0;34m=\u001b[0m \u001b[0mbuild_model\u001b[0m\u001b[0;34m(\u001b[0m\u001b[0mBayesianOptimization_tuner\u001b[0m\u001b[0;34m.\u001b[0m\u001b[0mget_best_hyperparameters\u001b[0m\u001b[0;34m(\u001b[0m\u001b[0;36m1\u001b[0m\u001b[0;34m)\u001b[0m\u001b[0;34m[\u001b[0m\u001b[0;36m0\u001b[0m\u001b[0;34m]\u001b[0m\u001b[0;34m)\u001b[0m\u001b[0;34m\u001b[0m\u001b[0;34m\u001b[0m\u001b[0m\n\u001b[0m\u001b[1;32m      2\u001b[0m \u001b[0mmodel\u001b[0m\u001b[0;34m.\u001b[0m\u001b[0mfit\u001b[0m\u001b[0;34m(\u001b[0m\u001b[0mX_train\u001b[0m\u001b[0;34m,\u001b[0m\u001b[0my_train\u001b[0m\u001b[0;34m,\u001b[0m\u001b[0mbatch_size\u001b[0m\u001b[0;34m=\u001b[0m\u001b[0;36m32\u001b[0m\u001b[0;34m,\u001b[0m \u001b[0mepochs\u001b[0m\u001b[0;34m=\u001b[0m\u001b[0;36m50\u001b[0m\u001b[0;34m,\u001b[0m \u001b[0mvalidation_data\u001b[0m\u001b[0;34m=\u001b[0m\u001b[0;34m(\u001b[0m\u001b[0mX_test\u001b[0m\u001b[0;34m,\u001b[0m\u001b[0my_test\u001b[0m\u001b[0;34m)\u001b[0m\u001b[0;34m)\u001b[0m\u001b[0;34m\u001b[0m\u001b[0;34m\u001b[0m\u001b[0m\n",
            "\u001b[0;32m<ipython-input-63-d4cc39d461be>\u001b[0m in \u001b[0;36mbuild_model\u001b[0;34m(hp)\u001b[0m\n\u001b[1;32m     34\u001b[0m         \u001b[0moptimizer\u001b[0m \u001b[0;34m=\u001b[0m \u001b[0mtf\u001b[0m\u001b[0;34m.\u001b[0m\u001b[0mkeras\u001b[0m\u001b[0;34m.\u001b[0m\u001b[0moptimizers\u001b[0m\u001b[0;34m.\u001b[0m\u001b[0mSGD\u001b[0m\u001b[0;34m(\u001b[0m\u001b[0mlearning_rate\u001b[0m\u001b[0;34m=\u001b[0m\u001b[0mlr\u001b[0m\u001b[0;34m)\u001b[0m\u001b[0;34m\u001b[0m\u001b[0;34m\u001b[0m\u001b[0m\n\u001b[1;32m     35\u001b[0m     \u001b[0;32melse\u001b[0m\u001b[0;34m:\u001b[0m\u001b[0;34m\u001b[0m\u001b[0;34m\u001b[0m\u001b[0m\n\u001b[0;32m---> 36\u001b[0;31m         \u001b[0;32mraise\u001b[0m\u001b[0;34m(\u001b[0m\u001b[0;34m\"Not supported optimizer\"\u001b[0m\u001b[0;34m)\u001b[0m\u001b[0;34m\u001b[0m\u001b[0;34m\u001b[0m\u001b[0m\n\u001b[0m\u001b[1;32m     37\u001b[0m \u001b[0;34m\u001b[0m\u001b[0m\n\u001b[1;32m     38\u001b[0m     model.compile(optimizer=optimizer,\n",
            "\u001b[0;31mTypeError\u001b[0m: exceptions must derive from BaseException"
          ]
        }
      ]
    }
  ]
}